{
 "cells": [
  {
   "cell_type": "code",
   "execution_count": null,
   "metadata": {},
   "outputs": [],
   "source": [
    "import sys\n",
    "import numpy as np\n",
    "import matplotlib.pyplot as plt\n",
    "from scipy.optimize import curve_fit, fsolve\n",
    "%matplotlib inline\n",
    "\n",
    "sys.path.append('../../..')\n",
    "from McAstro import constants as const\n",
    "from McAstro.stars.winds import polytropic as polywind"
   ]
  },
  {
   "cell_type": "code",
   "execution_count": null,
   "metadata": {},
   "outputs": [],
   "source": [
    "#Reproduce Figure 4.1 of Lamers and Cassinelli\n",
    "Gamma1 = 7/6\n",
    "Gamma2 = 4/3\n",
    "Gamma3 = 3/2\n",
    "\n",
    "wind1 = polywind.polytropic(Gamma1, 1, 1)\n",
    "wind2 = polywind.polytropic(Gamma2, 1, 1)\n",
    "wind3 = polywind.polytropic(Gamma3, 1, 1)\n",
    "\n",
    "fig, ax = plt.subplots(3,1,sharex=True)\n",
    "\n",
    "ax[0].plot(wind1.rad, wind1.Mach, '-', label=(r'$\\Gamma={:.4f}$'\n",
    "                                              .format(Gamma1)))\n",
    "ax[0].plot(wind2.rad, wind2.Mach, '--', label=(r'$\\Gamma={:.4f}$'\n",
    "                                              .format(Gamma2)))\n",
    "ax[0].plot(wind3.rad, wind3.Mach, ':', label=(r'$\\Gamma={:.4f}$'\n",
    "                                              .format(Gamma3)))\n",
    "\n",
    "ax[0].set_xscale('log')\n",
    "ax[0].set_xlim([.1,10])\n",
    "ax[0].set_ylim([0,4])\n",
    "ax[0].set_ylabel(r'$M=v/c_s$')\n",
    "\n",
    "ax[1].plot(wind1.rad, wind1.vel, '-')\n",
    "ax[1].plot(wind2.rad, wind2.vel, '--')\n",
    "ax[1].plot(wind3.rad, wind3.vel, ':')\n",
    "\n",
    "ax[1].set_ylim([0,3])\n",
    "ax[1].set_ylabel(r'$v/v_c$')\n",
    "\n",
    "\n",
    "ax[2].plot(wind1.rad, np.log10(wind1.T), '-')\n",
    "ax[2].plot(wind2.rad, np.log10(wind2.T), '--')\n",
    "ax[2].plot(wind3.rad, np.log10(wind3.T), ':')\n",
    "\n",
    "ax[2].set_ylim([-1,1])\n",
    "ax[2].set_ylabel(r'$\\log(T/T_c)$')\n",
    "\n",
    "fig.legend(loc=8, ncol=3)\n",
    "fig.tight_layout()\n",
    "fig.subplots_adjust(bottom=0.2)  "
   ]
  }
 ],
 "metadata": {
  "kernelspec": {
   "display_name": "Python 3",
   "language": "python",
   "name": "python3"
  },
  "language_info": {
   "codemirror_mode": {
    "name": "ipython",
    "version": 3
   },
   "file_extension": ".py",
   "mimetype": "text/x-python",
   "name": "python",
   "nbconvert_exporter": "python",
   "pygments_lexer": "ipython3",
   "version": "3.7.7"
  }
 },
 "nbformat": 4,
 "nbformat_minor": 4
}
