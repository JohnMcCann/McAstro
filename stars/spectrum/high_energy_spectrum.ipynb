{
 "cells": [
  {
   "cell_type": "code",
   "execution_count": null,
   "metadata": {},
   "outputs": [],
   "source": [
    "import numpy as np\n",
    "import matplotlib.pyplot as plt\n",
    "import matplotlib.ticker as ticker\n",
    "# plt.style.use(\"gruvbox\")\n",
    "%matplotlib inline\n",
    "%cd -q .."
   ]
  },
  {
   "cell_type": "code",
   "execution_count": null,
   "metadata": {},
   "outputs": [],
   "source": [
    "from McAstro import constants as const\n",
    "import McAstro.planets.insolation.euv as euv_insolation\n",
    "from McAstro.stars.classification import mass_classification as McMc"
   ]
  },
  {
   "cell_type": "code",
   "execution_count": null,
   "metadata": {},
   "outputs": [],
   "source": [
    "from McAstro.stars.spectrum import high_energy as McHess\n",
    "from McAstro.stars.relations import mass_relation as McSmr\n",
    "from McAstro.stars.relations import temperature_relation as McStr"
   ]
  },
  {
   "cell_type": "code",
   "execution_count": null,
   "metadata": {},
   "outputs": [],
   "source": [
    "#Peacock: GJ 832, GJ 176, and GJ 436, Trappist-1\n",
    "masses = np.array([0.45, 0.45, 0.507, 0.08])\n",
    "dist = np.array([4.965, 9.473, 9.755, 12.1])*const.pc\n",
    "flux = np.array([10**27.39/(4*const.pi*dist[0]**2), 0, 4.34e-13, 5e-14])\n",
    "\n",
    "# Chadney: Sol, epsilon Eri, AD Leo, AU Mic\n",
    "FX = np.array([2.96e4, 6.7e5, 5.95e6, 8.92e6])\n",
    "alp = np.array([6.13, 1.28, 0.37, 0.334])\n",
    "mas = np.array([1, 0.82, 0.4, 0.31])\n",
    "rad = np.array([1, 0.74, 0.41, 0.68])*const.Rsun\n",
    "FEUV = FX*alp*rad**2\n",
    "\n",
    "# Sanz-Forcada\n",
    "SF = [\n",
    "    ['1RXS1609',   'K7V',   145,    29.88,  30.50, 33.20, 0.09,  8.00,\n",
    "     330.00, -2.61, -1.90, 12.91, 13.72, 2.8e+04, 1.4e+05],\n",
    "    ['61 Vir',     'G5V',   8.53,   26.88,  27.92, 33.49, 7.96,  0.02,   0.05,\n",
    "     2.03,  3.10, 21.02, 21.76, 1.2e+09, 1.4e+10],\n",
    "    ['BD-10 3166', 'G4V',   66,     29.20,  29.91, 33.19, 0.25,  0.48,   0.05,\n",
    "     4.43,  5.21, 20.84, 21.61, 3.0e+11, 1.8e+12],\n",
    "    ['GJ 176',     'M2.5V', 9.42,   27.41,  28.37, 31.74, 3.62,  0.03,   0.07,\n",
    "     2.32,  3.33, 20.12, 21.43, 2.4e+09, 2.4e+10],\n",
    "    ['GJ 832',     'M1.5V', 4.94,   26.78,  27.83, 31.81, 9.24,  0.64,   3.40,\n",
    "     -1.73, -0.64, 16.77, 18.05, 2.1e+05, 2.5e+06],\n",
    "    ['GJ 3021',    'G6V',   17.62,  28.95,  29.70, 33.39, 0.37,  3.37,   0.49,\n",
    "     2.12,  2.94, 18.91, 19.61, 1.5e+09, 9.8e+09],\n",
    "    ['HD 3651',    'K0V',   11.11,  27.27,  28.25, 33.36, 4.46,  0.20,   0.28,\n",
    "     0.91,  1.94, 19.47, 20.23, 9.2e+07, 9.8e+08],\n",
    "    ['HD 10647',   'F8V',   17.35,  28.31,  29.15, 33.75, 0.95,  0.93,   2.03,\n",
    "     0.25,  1.14, 17.83, 18.47, 2.0e+07, 1.6e+08],\n",
    "    ['HD 41004 A', 'K1V',   43.03,  29.31,  30.01, 33.36, 0.22,  2.54,   1.64,\n",
    "     1.43,  2.21, 17.79, 18.50, 3.0e+08, 1.8e+09],\n",
    "    ['HD 48265',   'G5V',   87.41,  29.53,  30.20, 34.18, 0.16,  1.16,   1.51,\n",
    "     1.72,  2.47, 18.15, 18.61, 5.9e+08, 3.3e+09],\n",
    "    ['HD 70573',   'G1.2V', 45.7,   29.09,  29.82, 33.33, 0.30,  6.10,   1.76,\n",
    "     1.15,  1.95, 17.76, 18.48, 1.6e+08, 1.0e+09],\n",
    "    ['HD 87883',   'K0V',   18.06,  27.60,  28.54, 33.10, 2.73, 12.10,   3.60,\n",
    "     -0.96,  0.02, 17.17, 18.00, 1.2e+06, 1.2e+07],\n",
    "    ['HD 89744',   'F7V',   38.99,  28.11,  28.97, 34.38, 1.28,  7.20,   0.88,\n",
    "     0.77,  1.69, 18.79, 19.28, 6.6e+07, 5.5e+08],\n",
    "    ['HD 102365',  'G2V',   9.24,   26.81,  27.86, 33.49, 8.83,  0.05,   0.46,\n",
    "     0.04,  1.12, 19.10, 19.84, 1.2e+07, 1.5e+08],\n",
    "    ['HD 128311',  'K0V',   16.57,  28.48,  29.29, 33.06, 0.74,  2.18,   1.10,\n",
    "     0.95,  1.82, 18.13, 18.95, 1.0e+08, 7.5e+08],\n",
    "    ['HD 142415',  'G1V',   34.57,  28.65,  29.44, 33.63, 0.57,  1.62,   1.05,\n",
    "     1.16,  2.01, 18.35, 19.01, 1.6e+08, 1.2e+09],\n",
    "    ['HD 147513',  'G1V',   12.87,  28.90,  29.65, 33.56, 0.40,  1.21,   1.32,\n",
    "     1.21,  2.03, 18.11, 18.77, 1.8e+08, 1.2e+09],\n",
    "    ['HD 150706',  'G0V',   27.23,  28.82,  29.59, 33.55, 0.45,  1.00,   0.82,  1.54,  2.38, 18.53, 19.20, 3.9e+08, 2.7e+09],\n",
    "    ['HD 169830',  'F8V',   36.32,  28.26,  29.10, 34.23, 1.02,  2.88,   0.81,  0.99,  1.90, 18.80, 19.32, 1.1e+08, 8.8e+08],\n",
    "    ['HD 176051',  'K1V',   14.98,  28.22,  29.07, 32.86, 1.09,  1.50,   1.76,  0.28,  1.19, 17.67, 18.56, 2.1e+07, 1.7e+08],\n",
    "    #['HIP 79431',  'M3V',   14.90,  26.89,  27.93, 30.02, 7.84,  2.10,   0.36,  0.33,  1.40, 28.76, 28.76, 2.4e+07, 2.8e+08],\n",
    "    ['HR 810',     'G0V',   17.24,  28.79,  29.56, 33.80, 0.47,  2.26,   0.93,\n",
    "     1.41,  2.25, 18.49, 19.11, 2.9e+08, 2.0e+09]\n",
    "]\n",
    "\n",
    "SF_age = np.array([s[6]*1e9 for s in SF])\n",
    "SF_xray = np.array([10**s[3] for s in SF])\n",
    "SF_xray /= (SF_age/1e8)**(-1.5)\n",
    "#SF_xray *= (stellar_age/1e8)**(-1.5)\n",
    "SF_euv = 10**(4.8 + 0.86*np.log10(SF_xray))\n",
    "#SF_euv = np.array([10**s[4] for s in SF])\n",
    "SF_bol = np.array([10**s[5]/const.Lsun for s in SF])\n",
    "SF_mass = McSmr.Eker_luminosity_mass(SF_bol)"
   ]
  },
  {
   "cell_type": "code",
   "execution_count": null,
   "metadata": {},
   "outputs": [],
   "source": [
    "stellar_age = 4.67e9 # in years\n",
    "semimajor = 0.135*const.au # in centimeters\n",
    "limited = False\n",
    "\n",
    "if limited:\n",
    "    x = np.linspace(0.2, 1.68, 60)\n",
    "else:\n",
    "    x = np.linspace(0.2, 5.0)\n",
    "    \n",
    "eBB = euv_insolation.Mc_euv(x, semimajor, stellar_age, euv='blackbody',\n",
    "                            extrapolate=True, shift=True)\n",
    "xJeC = euv_insolation.Mc_euv(x, semimajor, stellar_age, extrapolate=True)\n",
    "SxJeC = euv_insolation.Mc_euv(x, semimajor, stellar_age, extrapolate=True,\n",
    "                              shift=True)\n",
    "ySxJeC = euv_insolation.Mc_euv(x, semimajor, 0, extrapolate=True,\n",
    "                              shift=True)\n",
    "xOeC = euv_insolation.Mc_euv(x, semimajor, stellar_age, xray='Owen')\n",
    "SxOeC = euv_insolation.Mc_euv(x, semimajor, stellar_age, xray='Owen',\n",
    "                              shift=True)\n",
    "\n",
    "fig, ax = plt.subplots()\n",
    "\n",
    "#ax.set_position([.15, .15, .55, .75])\n",
    "\n",
    "#ax.plot(x, xJeC, label='xJeC')\n",
    "ax.plot(x, SxJeC, label='Aged Star')\n",
    "ax.plot(x, ySxJeC, label='Young Star')\n",
    "if not limited:\n",
    "    ax.plot(x, eBB, label='Black body')\n",
    "# ax.plot(my_masses, surface_euv*(radii*const.Rsun/(0.05*const.au))**2,\n",
    "#         label='PHOENIX')\n",
    "#ax.plot(x, xOeC, label='xOeC')\n",
    "#ax.plot(x, SxOeC, label='SxOeC')\n",
    "\n",
    "#Chadney\n",
    "ax.plot(mas, FEUV/semimajor**2, 'd', label='Chadney')\n",
    "\n",
    "# Fossati\n",
    "ax.plot([1, 1.7127, 2.5196, 4.4625], [2400, 7800, 4000, 6e6], 'P', label='Fossati')\n",
    "ax.axvline(1.95, color='red', zorder=0, ls='-.')\n",
    "\n",
    "# Peacock\n",
    "planetf = flux*(dist/semimajor)**2\n",
    "ax.plot(masses, planetf, '.', label='Peacock')\n",
    "\n",
    "# Garcia-Munoz\n",
    "ax.plot(2.5, 3100*(0.035*const.au/semimajor)**2, '*', label='Garcia-Munoz')\n",
    "\n",
    "# Sanz-Forcada\n",
    "SF_euv /= 4*const.pi*semimajor**2\n",
    "#ax.plot(SF_mass, SF_euv, 'p', label='Sanz-Forcada')\n",
    "\n",
    "if limited:\n",
    "    ax.set_ylim([SxJeC[0], ySxJeC[-1]])\n",
    "else:\n",
    "    ax.axvline(1.68, color='red', ls=':', zorder=0)\n",
    "    ax.set_ylim([1e2, 1e8])\n",
    "ax.set_xlim([x[0], x[-1]])\n",
    "ax.set_yscale('log')\n",
    "\n",
    "# fig.suptitle('euv flux at planet\\nsemimajor: {:.2f} au, stellar age: {:.0f} Myr'\n",
    "#              .format(semimajor/const.au, stellar_age/1e6))\n",
    "# fig.legend(loc=8, ncol=3)\n",
    "# fig.tight_layout()\n",
    "# fig.subplots_adjust(bottom=.35, top=0.85)\n",
    "\n",
    "ax.legend(loc='center right', bbox_to_anchor=(1.45, 0.5))\n",
    "ax.set_title('euv flux at planet\\nsemimajor: {:.2f} au, stellar age: {:.0f} Myr'\n",
    "             .format(semimajor/const.au, stellar_age/1e6))\n",
    "ax.set_xlabel(r'Stellar Mass ($M_\\odot$)')\n",
    "ax.set_ylabel(r'F$_{\\mathrm{euv}}$ (erg/s/cm$^2$)')\n",
    "\n",
    "\n",
    "McMc.plot_classifications(ax)\n",
    "\n",
    "# fig.tight_layout()\n",
    "\n",
    "# plt.savefig('mass-euv-luminosity', dpi=300, transparent=True)"
   ]
  },
  {
   "cell_type": "code",
   "execution_count": null,
   "metadata": {},
   "outputs": [],
   "source": [
    "L_bol = McSmr.Eker_luminosity_mass(x)\n",
    "ySxJeC/L_bol"
   ]
  },
  {
   "cell_type": "code",
   "execution_count": null,
   "metadata": {},
   "outputs": [],
   "source": [
    "SF_xray"
   ]
  },
  {
   "cell_type": "code",
   "execution_count": null,
   "metadata": {},
   "outputs": [],
   "source": [
    "McSmr.Eker_mass_luminosity(1)"
   ]
  },
  {
   "cell_type": "code",
   "execution_count": null,
   "metadata": {},
   "outputs": [],
   "source": [
    "np.sqrt(4*const.pi**2*(.2*const.au)**3/(const.G*(const.Msun+const.Mearth)))/const.day"
   ]
  },
  {
   "cell_type": "code",
   "execution_count": null,
   "metadata": {},
   "outputs": [],
   "source": [
    "McSmr.Eker_mass_temperature(1.9626)"
   ]
  },
  {
   "cell_type": "code",
   "execution_count": null,
   "metadata": {},
   "outputs": [],
   "source": [
    "from McAstro.stars.spectrum import phoenix as McPhoenix\n",
    "from McAstro.stars.spectrum import black_body as McBB"
   ]
  },
  {
   "cell_type": "code",
   "execution_count": null,
   "metadata": {},
   "outputs": [],
   "source": [
    "Kelt9b = McPhoenix.PHOENIX()\n",
    "\n",
    "alt_Kelt9b = McPhoenix.PHOENIX(folder='PHOENIX-ACES-AGSS-COND-2011_A1FITS_Z-0.0/', res='medium')"
   ]
  },
  {
   "cell_type": "code",
   "execution_count": null,
   "metadata": {},
   "outputs": [],
   "source": [
    "np.linspace(3, 10, 7001)"
   ]
  },
  {
   "cell_type": "code",
   "execution_count": null,
   "metadata": {},
   "outputs": [],
   "source": [
    "from astropy.io import fits\n",
    "\n",
    "with fits.open('/Users/john/Desktop/McAstro/stars/spectrum/PHOENIX-ACES-AGSS-COND-2011_A1FITS_Z-0.0/lte10200-4.00-0.0.PHOENIX-ACES-AGSS-COND-2011-HiRes.fits') as hdul:\n",
    "    print(len(hdul))\n",
    "    crap = hdul[0].header\n",
    "#     spec_hdr = hdul[0].header\n",
    "#     spec = hdul[0].data\n",
    "#     abun_hdr = hdul[1].header\n",
    "#     abun = hdul[1].data\n",
    "crap"
   ]
  },
  {
   "cell_type": "code",
   "execution_count": null,
   "metadata": {},
   "outputs": [],
   "source": [
    "fig, ax = plt.subplots()\n",
    "Kelt9b.spec_plot(ax)\n",
    "alt_Kelt9b.spec_plot(ax)\n",
    "alt_Kelt9b.black_body.spec_plot(ax)\n",
    "ax.set_xscale('log')\n",
    "ax.set_yscale('log')\n",
    "ax.set_xlabel('Wavelength (cm)')\n",
    "ax.set_ylabel(r'Spectral irradiance (erg/s/cm$^3$)')\n",
    "Kelt9b.black_body.spec_plot(ax)\n",
    "Kelt9b.EUV_black_body.spec_plot(ax)\n",
    "ax.set_xlim([4e-6, 6e-4])\n",
    "#ax.set_xlim([4e-6, 912e-8])\n",
    "ax.set_ylim([1e3,1e17])\n",
    "ax.axvline(1215.67e-8, zorder=0, color='yellow', ls='-.')\n",
    "ax.axvline(912e-8, zorder=0, color='yellow', ls='--')\n",
    "fig.tight_layout()"
   ]
  },
  {
   "cell_type": "code",
   "execution_count": null,
   "metadata": {},
   "outputs": [],
   "source": [
    "if any(alt_Kelt9b.wl < 912e-8):\n",
    "    print('J')"
   ]
  },
  {
   "cell_type": "code",
   "execution_count": null,
   "metadata": {},
   "outputs": [],
   "source": [
    "Kelt9b.spec_integral()*(Kelt9b.spec_hdr['PHXREFF']/(const.au))**2*(2.3610/(Kelt9b.spec_hdr['PHXREFF']/const.Rsun))**2"
   ]
  },
  {
   "cell_type": "code",
   "execution_count": null,
   "metadata": {},
   "outputs": [],
   "source": [
    "Kelt9b.EUV_black_body.spec_integral()*(Kelt9b.spec_hdr['PHXREFF']/(const.au))**2*(2.3610/(Kelt9b.spec_hdr['PHXREFF']/const.Rsun))**2"
   ]
  },
  {
   "cell_type": "code",
   "execution_count": null,
   "metadata": {},
   "outputs": [],
   "source": [
    "Kelt9b.spec_hdr['PHXMASS']/const.Msun"
   ]
  },
  {
   "cell_type": "code",
   "execution_count": null,
   "metadata": {},
   "outputs": [],
   "source": [
    "np.concatenate((np.linspace(2300, 7000, 48), np.linspace(7200, 12000, 25),\n",
    "               np.linspace(12500, 15000, 6)))"
   ]
  },
  {
   "cell_type": "code",
   "execution_count": null,
   "metadata": {},
   "outputs": [],
   "source": [
    "masses = np.linspace(2, 5, 100)\n",
    "radii = McSmr.Eker_mass_radius(masses)\n",
    "tempi = McSmr.Eker_mass_temperature(masses)\n",
    "\n",
    "np.log10(const.G*(masses*const.Msun)/(radii*const.Rsun)**2)\n",
    "#tempi"
   ]
  },
  {
   "cell_type": "code",
   "execution_count": null,
   "metadata": {},
   "outputs": [],
   "source": [
    "tempi = np.concatenate((np.linspace(2300, 7000, 48),\n",
    "                        np.linspace(7200, 12000, 25),\n",
    "                        np.linspace(12500, 15000, 6)))\n",
    "my_masses, radii, surface_euv, euv_T = (np.ones(len(tempi)) for x in range(4))\n",
    "for i, T in enumerate(tempi):\n",
    "    model = McPhoenix.PHOENIX(Teff=T, log10g=4.0, Z=0.0, alpha=0.0)\n",
    "    my_masses[i] = model.spec_hdr['PHXMASS']/const.Msun\n",
    "    radii[i] = model.spec_hdr['PHXREFF']/const.Rsun\n",
    "    euv_T[i] = model.EUV_Teff\n",
    "    surface_euv[i] = model.spec_integral()"
   ]
  },
  {
   "cell_type": "code",
   "execution_count": null,
   "metadata": {},
   "outputs": [],
   "source": [
    "from scipy.optimize import curve_fit\n",
    "\n",
    "def linear_fit(x, a, b):\n",
    "    return a * x + b\n",
    "\n",
    "popt0, pcov0 = curve_fit(linear_fit, tempi[0:32], euv_T[0:32])\n",
    "popt1, pcov1 = curve_fit(linear_fit, tempi[32:56], euv_T[32:56])\n",
    "popt2, pcov2 = curve_fit(linear_fit, tempi[56:70], euv_T[56:70])\n",
    "popt3, pcov3 = curve_fit(linear_fit, tempi[73:], euv_T[73:])"
   ]
  },
  {
   "cell_type": "code",
   "execution_count": null,
   "metadata": {},
   "outputs": [],
   "source": [
    "x0, x1, x2, x3, x4 = 0, 32, 56, 73, 78\n",
    "\n",
    "m0, b0, c0 = (euv_T[x1]-euv_T[x0])/(tempi[x1]-tempi[x0]), euv_T[x0], tempi[x0]\n",
    "m1, b1, c1 = (euv_T[x2]-euv_T[x1])/(tempi[x2]-tempi[x1]), euv_T[x1], tempi[x1]\n",
    "m2, b2, c2 = (euv_T[x3]-euv_T[x2])/(tempi[x3]-tempi[x2]), euv_T[x2], tempi[x2]\n",
    "m3, b3, c3 = (euv_T[x4]-euv_T[x3])/(tempi[x4]-tempi[x3]), euv_T[x3], tempi[x3]\n",
    "print('m0, b0, x0 = {:f}, {:f}, {:f}'.format(m0, b0, c0))\n",
    "print('m1, b1, x1 = {:f}, {:f}, {:f}'.format(m1, b1, c1))\n",
    "print('m2, b2, x2 = {:f}, {:f}, {:f}'.format(m2, b2, c2))\n",
    "print('m3, b3, x3 = {:f}, {:f}, {:f}'.format(m3, b3, c3))"
   ]
  },
  {
   "cell_type": "code",
   "execution_count": null,
   "metadata": {},
   "outputs": [],
   "source": [
    "fig, ax = plt.subplots()\n",
    "ax.plot(tempi, euv_T, '.')\n",
    "\n",
    "# ax.plot(tempi[:33], linear_fit(tempi[:33], *popt0),\n",
    "#        label='a:{:.05f}, b:{:.02f}'.format(*popt0))\n",
    "# ax.plot(tempi[32:57], linear_fit(tempi[32:57], *popt1),\n",
    "#        label='a:{:.05f}, b:{:.02f}'.format(*popt1))\n",
    "# ax.plot(tempi[56:74], linear_fit(tempi[56:74], *popt2),\n",
    "#        label='a:{:.05f}, b:{:.02f}'.format(*popt2))\n",
    "# ax.plot(tempi[73:], linear_fit(tempi[73:], *popt3),\n",
    "#        label='a:{:.05f}, b:{:.02f}'.format(*popt3))\n",
    "\n",
    "ax.plot(tempi[x0:x1+1], m0*(tempi[x0:x1+1]-tempi[x0])+b0)\n",
    "ax.plot(tempi[x1:x2+1], m1*(tempi[x1:x2+1]-tempi[x1])+b1)\n",
    "ax.plot(tempi[x2:x3+1], m2*(tempi[x2:x3+1]-tempi[x2])+b2)\n",
    "ax.plot(tempi[x3:x4+1], m3*(tempi[x3:x4+1]-tempi[x3])+b3)\n",
    "\n",
    "ax.legend()\n",
    "ax.axvline(tempi[32], zorder=0, color='cyan', ls='--')\n",
    "ax.axvline(tempi[56], zorder=0, color='cyan', ls='--')\n",
    "ax.axvline(tempi[73], zorder=0, color='cyan', ls='--')\n",
    "fig.tight_layout()"
   ]
  },
  {
   "cell_type": "code",
   "execution_count": null,
   "metadata": {},
   "outputs": [],
   "source": [
    "print(tempi[32], tempi[56], tempi[73])\n",
    "print(popt0, popt1, popt2, popt3)"
   ]
  },
  {
   "cell_type": "code",
   "execution_count": null,
   "metadata": {},
   "outputs": [],
   "source": [
    "import numpy as np\n",
    "from scipy import integrate\n",
    "import matplotlib.pyplot as plt\n",
    "plt.style.use(\"gruvbox\") #\n",
    "%matplotlib inline\n",
    "%cd -q ..\n",
    "from McAstro import constants as const\n",
    "\n",
    "def ballistic_eoq(t, p, Mp, Mstar, smjr, Omg):\n",
    "    x, y, z, u, v, w = p\n",
    "    r_planet_15 = (x**2+y**2+z**2)**(1.5)\n",
    "    r_star_15 = ((x+smjr)**2+y**2+z**2)**(1.5)\n",
    "    \n",
    "    dpdt = [\n",
    "        u, v, w,\n",
    "        -const.G*(Mp*x/r_planet_15+Mstar*(x+smjr)/r_star_15)\n",
    "            +Omg**2*(x+smjr)+2.*Omg*v,\n",
    "        -const.G*y*(Mp/r_planet_15+Mstar/r_star_15)\n",
    "            +Omg**2*y-2.*Omg*u,\n",
    "        -const.G*z*(Mp/r_planet_15+Mstar/r_star_15)\n",
    "    ]\n",
    "\n",
    "    return dpdt\n",
    "\n",
    "def ballistic_jacobian(t, p, Mp, Mstar, smjr, Omg):\n",
    "    x, y, z, u, v, w = p\n",
    "    \n",
    "    x2 = x**2\n",
    "    xa2 = (x+smjr)**2\n",
    "    y2 = y**2\n",
    "    z2 = z**2\n",
    "    \n",
    "    r_planet_2 = x2+y**2+z**2\n",
    "    r_planet_25 = r_planet_2**(2.5)\n",
    "    r_star_2 = (x+smjr)**2+y**2+z**2\n",
    "    r_star_25 = r_star_2**(2.5)\n",
    "    \n",
    "    ja_kobi_x = np.array([0,0,0,1,0,0])\n",
    "    ja_kobi_y = np.array([0,0,0,0,1,0])\n",
    "    ja_kobi_z = np.array([0,0,0,0,0,1])\n",
    "    \n",
    "    ja_kobi_u = np.array([\n",
    "        (-const.G*(Mp*(r_planet_2-3*x2)/r_planet_25\n",
    "                   +Mstar*(r_star_2-3*xa2)/r_star_25)+Omg**2),\n",
    "        (-const.G*(Mp*(-3*y*x)/r_planet_25\n",
    "                     +Mstar*(-3*y*(x+smjr))/r_star_25)),\n",
    "        (-const.G*(Mp*(-3*z*x)/r_planet_25\n",
    "                     +Mstar*(-3*z*(x+smjr))/r_star_25)),\n",
    "        0, 2*Omg, 0])\n",
    "    ja_kobi_v = np.array([\n",
    "        (-const.G*(Mp*(-3*x*y)/r_planet_25\n",
    "                   +Mstar*(-3*y*(x+smjr)/r_star_25))),\n",
    "        (-const.G*(Mp*(r_planet_2-3*y2)/r_planet_25\n",
    "                     +Mstar*(r_star_2-3*y2)/r_star_25)+Omg**2),\n",
    "        (-const.G*(Mp*(-3*z*y)/r_planet_25\n",
    "                     +Mstar*(-3*z*y)/r_star_25)),\n",
    "        -2*Omg, 0, 0])\n",
    "    ja_kobi_w = np.array([\n",
    "        (-const.G*(Mp*(-3*x*z)/r_planet_25\n",
    "                   +Mstar*(-3*z*(x+smjr))/r_star_25)),\n",
    "        (-const.G*(Mp*(-3*y*z)/r_planet_25\n",
    "                     +Mstar*(-3*y*z)/r_star_25)),\n",
    "        (-const.G*(Mp*(r_planet_2-3*z2)/r_planet_25\n",
    "                     +Mstar*(r_star_2-3*z2)/r_star_25)),\n",
    "        0, 0, 0])\n",
    "        \n",
    "    ja_kobi = np.array([\n",
    "        ja_kobi_x, ja_kobi_y, ja_kobi_z,\n",
    "        ja_kobi_u, ja_kobi_v, ja_kobi_w\n",
    "    ])\n",
    "    \n",
    "    return ja_kobi"
   ]
  },
  {
   "cell_type": "code",
   "execution_count": null,
   "metadata": {},
   "outputs": [],
   "source": [
    "xMp = 5e29\n",
    "xRp = 1.5e10\n",
    "xMstar = 1.99e33\n",
    "xsmjr = 1e12\n",
    "xOmg = np.sqrt(const.G*(xMp+xMstar)/xsmjr**3)\n",
    "\n",
    "v_p = np.sqrt(15e5**2+2*const.G*xMp/xRp)\n",
    "\n",
    "sol = [None,]*31\n",
    "for i, phi in enumerate(np.linspace(0, 2*np.pi, 31)):\n",
    "    rx = xRp*np.cos(phi)\n",
    "    ry = xRp*np.sin(phi)\n",
    "    vx = v_p*np.cos(phi)\n",
    "    vy = v_p*np.sin(phi)\n",
    "    sol[i] = integrate.solve_ivp(\n",
    "        ballistic_eoq, [0, 1e7], [rx, ry, 0, vx, vy, 0],\n",
    "        args=(xMp, xMstar, xsmjr, xOmg),# jac=ballistic_jacobian,\n",
    "        method='RK45', dense_output=True)"
   ]
  },
  {
   "cell_type": "code",
   "execution_count": null,
   "metadata": {},
   "outputs": [],
   "source": [
    "time = np.logspace(1, 5, 2000)\n",
    "\n",
    "fig, ax = plt.subplots()\n",
    "\n",
    "for s in sol:\n",
    "    ax.plot(s.sol(time)[0,:]/xRp, s.sol(time)[1,:]/xRp)\n",
    "fig.tight_layout()"
   ]
  },
  {
   "cell_type": "code",
   "execution_count": null,
   "metadata": {},
   "outputs": [],
   "source": [
    "np.arctan2(sol[15].sol(time)[3,:],sol[15].sol(time)[4,:])"
   ]
  },
  {
   "cell_type": "code",
   "execution_count": null,
   "metadata": {},
   "outputs": [],
   "source": [
    "sol[15].sol(time)[3,:]"
   ]
  },
  {
   "cell_type": "code",
   "execution_count": null,
   "metadata": {},
   "outputs": [],
   "source": []
  }
 ],
 "metadata": {
  "kernelspec": {
   "display_name": "Python 3",
   "language": "python",
   "name": "python3"
  },
  "language_info": {
   "codemirror_mode": {
    "name": "ipython",
    "version": 3
   },
   "file_extension": ".py",
   "mimetype": "text/x-python",
   "name": "python",
   "nbconvert_exporter": "python",
   "pygments_lexer": "ipython3",
   "version": "3.7.7"
  }
 },
 "nbformat": 4,
 "nbformat_minor": 4
}
