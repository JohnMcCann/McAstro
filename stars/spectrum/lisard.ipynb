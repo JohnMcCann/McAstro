{
 "cells": [
  {
   "cell_type": "code",
   "execution_count": null,
   "metadata": {},
   "outputs": [],
   "source": [
    "import numpy as np\n",
    "import pandas as pd\n",
    "from scipy import integrate\n",
    "\n",
    "%cd -q ../..\n",
    "import utils.constants as const\n",
    "from atoms.atomic_species import atomic_species\n",
    "from stars.spectrum.lisard import lisard_spectrum\n",
    "\n",
    "from stars.spectrum.high_energy_models.Linsky2014 import f_uv_bins\n",
    "\n",
    "import matplotlib.pyplot as plt\n",
    "%matplotlib inline"
   ]
  },
  {
   "cell_type": "markdown",
   "metadata": {},
   "source": [
    "# Plot LISARD spectrums\n",
    "\n",
    "## uv spectrums: FISM2, FISM, SEE, EVE, MAVEN, compared with Linsky et. al 2014\n",
    "\n",
    "Will fetch each dataset from LISARD, may take a few minutes. You can comment out missions to skip downloading data and run faster. Data is saved as a parquet in a folder called McAstro/stars/spectrum/lisard_spectrums. "
   ]
  },
  {
   "cell_type": "code",
   "execution_count": null,
   "metadata": {},
   "outputs": [],
   "source": [
    "# Missions\n",
    "date = '2016-01-01'\n",
    "fism2 = lisard_spectrum(date=date, mission='fism2')\n",
    "fism = lisard_spectrum(date=date, mission='fism')\n",
    "see = lisard_spectrum(date=date, mission='see')\n",
    "eve = lisard_spectrum(date=date, mission='eve')\n",
    "maven = lisard_spectrum(date=date, mission='maven')\n",
    "spectrums = [fism2, fism, see, eve, maven]\n",
    "\n",
    "# Linsky\n",
    "wl_bins = np.array([10, 20, 30, 40, 50, 60, 70, 80, 91.2, 117])*1e-7\n",
    "wl = np.linspace(wl_bins[0], wl_bins[-1], 1024)\n",
    "nu = const.c/wl\n",
    "Linsky_bin = [i for i in range(len(wl_bins)-1)\n",
    "              for w in wl if w >= wl_bins[i] and w <= wl_bins[i+1]]\n",
    "Linsky_spectrum = f_uv_bins(5)\n",
    "F_Linsky = Linsky_spectrum[Linsky_bin]\n",
    "F_wl = F_Linsky/(wl_bins[[x+1 for x in Linsky_bin]]-wl_bins[Linsky_bin])\n",
    "F_nu = F_Linsky/(const.c/wl_bins[Linsky_bin]\n",
    "                 -const.c/wl_bins[[x+1 for x in Linsky_bin]])\n",
    "linsky = lisard_spectrum(mission='linsky')\n",
    "linsky.data = pd.DataFrame(np.array([wl, nu, F_wl, F_nu]).T,\n",
    "                           columns=['wl', 'nu', 'F_wl', 'F_nu'])\n",
    "spectrums += [linsky]"
   ]
  },
  {
   "cell_type": "code",
   "execution_count": null,
   "metadata": {},
   "outputs": [],
   "source": [
    "fig, ax = plt.subplots()\n",
    "\n",
    "for spectrum in spectrums:\n",
    "    mask = (spectrum.data['wl']<=wl_bins[-1])&(spectrum.data['wl']>=wl_bins[0])\n",
    "    masked_data = spectrum.data[mask]\n",
    "    \n",
    "    ax.plot(masked_data['wl']*1e7, masked_data['F_wl']*1e-7, lw=2,\n",
    "            label=spectrum.mission)\n",
    "    \n",
    "ax.set_yscale('log')\n",
    "ax.legend(loc='upper center', bbox_to_anchor=(0.5, 1.05),\n",
    "          ncol=3, fancybox=True, shadow=True)\n",
    "ax.set_xlabel('Wavelength (nm)')\n",
    "ax.set_ylabel(r'Irradiance (erg/s/cm$^2$/nm)')\n",
    "\n",
    "fig.tight_layout()"
   ]
  },
  {
   "cell_type": "markdown",
   "metadata": {},
   "source": [
    "## FISM2 solar min and max compared to Linsky"
   ]
  },
  {
   "cell_type": "code",
   "execution_count": null,
   "metadata": {},
   "outputs": [],
   "source": [
    "# Wavelength range (hydrogen ionization edge)\n",
    "absorber = atomic_species('H I')\n",
    "ion_pot = absorber.verner_data['E_th']*const.eV\n",
    "min_wl = 10e-7\n",
    "max_wl = const.hc/ion_pot\n",
    "\n",
    "#Missions\n",
    "solar_minimum = '2009-01-01'\n",
    "solar_maximum = '2002-01-01'\n",
    "fism2_min = lisard_spectrum(date=solar_minimum, mission='fism2')\n",
    "fism2_max = lisard_spectrum(date=solar_maximum, mission='fism2')\n",
    "fism2_min.mission = 'fism2 (solar min)'\n",
    "fism2_max.mission = 'fism2 (solar max)'\n",
    "spectrums = [fism2_min, fism2_max]\n",
    "\n",
    "# Linsky f_Lya set to match e_tot of fism2\n",
    "wl_bins = np.array([10, 20, 30, 40, 50, 60, 70, 80, 91.2, 117])*1e-7\n",
    "wl = np.linspace(min_wl, max_wl, 1024)\n",
    "nu = const.c/wl\n",
    "Linsky_bin = [i for i in range(len(wl_bins)-1)\n",
    "              for w in wl if w >= wl_bins[i] and w <= wl_bins[i+1]]\n",
    "\n",
    "Linsky_spectrum = f_uv_bins(4.8)\n",
    "F_Linsky = Linsky_spectrum[Linsky_bin]\n",
    "F_wl = F_Linsky/(wl_bins[[x+1 for x in Linsky_bin]]-wl_bins[Linsky_bin])\n",
    "F_nu = F_Linsky/(const.c/wl_bins[Linsky_bin]\n",
    "                 -const.c/wl_bins[[x+1 for x in Linsky_bin]])\n",
    "linsky = lisard_spectrum(mission='linsky')\n",
    "linsky.data = pd.DataFrame(np.array([wl, nu, F_wl, F_nu]).T,\n",
    "                           columns=['wl', 'nu', 'F_wl', 'F_nu'])\n",
    "spectrums += [linsky]\n",
    "Linsky_spectrum = f_uv_bins(9.69)\n",
    "F_Linsky = Linsky_spectrum[Linsky_bin]\n",
    "F_wl = F_Linsky/(wl_bins[[x+1 for x in Linsky_bin]]-wl_bins[Linsky_bin])\n",
    "F_nu = F_Linsky/(const.c/wl_bins[Linsky_bin]\n",
    "                 -const.c/wl_bins[[x+1 for x in Linsky_bin]])\n",
    "linsky = lisard_spectrum(mission='linsky')\n",
    "linsky.data = pd.DataFrame(np.array([wl, nu, F_wl, F_nu]).T,\n",
    "                           columns=['wl', 'nu', 'F_wl', 'F_nu'])\n",
    "spectrums += [linsky]"
   ]
  },
  {
   "cell_type": "code",
   "execution_count": null,
   "metadata": {},
   "outputs": [],
   "source": [
    "fig, ax = plt.subplots()\n",
    "\n",
    "for spectrum in spectrums:\n",
    "    mask = (spectrum.data['wl']<=max_wl)&(spectrum.data['wl']>=min_wl)\n",
    "    masked_data = spectrum.data[mask]\n",
    "    \n",
    "    ax.plot(masked_data['wl']*1e7, masked_data['F_wl']*1e-7, lw=2,\n",
    "            label=spectrum.mission)\n",
    "    \n",
    "ax.legend()\n",
    "ax.set_xlabel('Wavelength (nm)')\n",
    "ax.set_ylabel(r'Irradiance (erg/s/cm$^2$/nm)')\n",
    "\n",
    "ax.set_yscale('log')\n",
    "fig.tight_layout()"
   ]
  },
  {
   "cell_type": "markdown",
   "metadata": {},
   "source": [
    "# Calculate cycle averages"
   ]
  },
  {
   "cell_type": "code",
   "execution_count": null,
   "metadata": {},
   "outputs": [],
   "source": [
    "import datetime\n",
    "\n",
    "def daterange(start_date, end_date):\n",
    "    for n in range(int ((end_date - start_date).days)):\n",
    "        yield start_date + datetime.timedelta(n)"
   ]
  },
  {
   "cell_type": "code",
   "execution_count": null,
   "metadata": {},
   "outputs": [],
   "source": [
    "# Sol cycle 23\n",
    "start_date = datetime.date(1996, 8, 1)\n",
    "end_date = datetime.date(2008, 12, 1)\n",
    "wl_0 = 10e-7\n",
    "wl_1 = const.hc/(atomic_species('H I').verner_data['E_th']*const.eV)\n",
    "ndays = (end_date - start_date).days\n",
    "xuv = np.zeros(ndays)\n",
    "dates = []\n",
    "\n",
    "fism2 = lisard_spectrum(date='2000-01-01', mission='fism2',\n",
    "                        sort_values='wl')\n",
    "avg_spectrum = fism2.data\n",
    "avg_spectrum['F_wl'] = np.zeros(len(a1.data['F_wl']))\n",
    "\n",
    "for i, single_date in enumerate(daterange(start_date, end_date)):\n",
    "    date = single_date.strftime(\"%Y-%m-%d\")\n",
    "    fism2 = lisard_spectrum(date=date, mission='fism2', sort_values='wl')\n",
    "    ionz = fism2.data.loc[(fism2.data['wl']<=wl_1)&(fism2.data['wl']>=wl_0)]\n",
    "    xuv[i] = integrate.simps(ionz['F_wl'], ionz['wl'])\n",
    "    dates.append(single_date)\n",
    "    avg_spectrum['F_wl'] += fism2.data['F_wl']/ndays\n",
    "    if xuv[i] >= 6:\n",
    "        print(f'{date}: {xuv[i]}')"
   ]
  },
  {
   "cell_type": "code",
   "execution_count": null,
   "metadata": {},
   "outputs": [],
   "source": [
    "fig, ax = plt.subplots()\n",
    "ax.plot(dates, xuv)\n",
    "ax.axhline(xuv.mean(), ls='--', c='g', zorder=0)\n",
    "ax.text(dates[-len(dates)//4], 0.1+xuv.mean(), f'mean: {xuv.mean():.2f}')\n",
    "\n",
    "ax.axhline(xuv.min(), ls='--', c='r', zorder=0)\n",
    "ax.text(dates[-2*len(dates)//3], 0.1+xuv.min(), f'min: {xuv.min():.2f}')\n",
    "\n",
    "ax.axhline(xuv.max(), ls='--', c='b', zorder=0)\n",
    "ax.text(dates[-len(dates)//4], 0.1+xuv.max(), f'max: {xuv.max():.2f}')\n",
    "ax.set_ylim([1.5,5.5])\n",
    "ax.set_title('Integrated xuv ($10-91.2$ nm) [cycle 23]')\n",
    "ax.set_xlabel('Date')\n",
    "ax.set_ylabel(r'xuv flux at Earth (erg/s/cm$^2$)')\n",
    "fig.tight_layout()"
   ]
  },
  {
   "cell_type": "code",
   "execution_count": null,
   "metadata": {},
   "outputs": [],
   "source": [
    "max_spectrum = lisard_spectrum(\n",
    "    date=dates[np.where(xuv==xuv.max())[0][0]].strftime('%Y-%m-%d'),\n",
    "    mission='fism2', sort_values='wl'\n",
    ")\n",
    "min_spectrum = lisard_spectrum(\n",
    "    date=dates[np.where(xuv==xuv.min())[0][0]].strftime('%Y-%m-%d'),\n",
    "    mission='fism2', sort_values='wl'\n",
    ")\n",
    "\n",
    "fig, ax = plt.subplots()\n",
    "mk = (avg_spectrum['wl']>=wl_0)&(avg_spectrum['wl']<=wl_1)\n",
    "ax.plot(avg_spectrum['wl'][mk]*1e7,\n",
    "        avg_spectrum['F_wl'][mk], lw=1)\n",
    "ax.plot(max_spectrum.data['wl'][mk]*1e7,\n",
    "        max_spectrum.data['F_wl'][mk], lw=1)\n",
    "ax.plot(min_spectrum.data['wl'][mk]*1e7,\n",
    "        min_spectrum.data['F_wl'][mk], lw=1)\n",
    "ax.set_yscale('log')\n",
    "fig.tight_layout()"
   ]
  },
  {
   "cell_type": "code",
   "execution_count": null,
   "metadata": {},
   "outputs": [],
   "source": [
    "fig, ax = plt.subplots()\n",
    "mk = (avg_spectrum['wl']>=wl_0)&(avg_spectrum['wl']<=wl_1)\n",
    "ax.plot(max_spectrum.data['wl'][mk]*1e7,\n",
    "        max_spectrum.data['F_wl'][mk]/min_spectrum.data['F_wl'][mk], lw=1)\n",
    "ax.plot(max_spectrum.data['wl'][mk]*1e7,\n",
    "        max_spectrum.data['F_wl'][mk]/avg_spectrum['F_wl'][mk], lw=1)\n",
    "ax.plot(min_spectrum.data['wl'][mk]*1e7,\n",
    "        avg_spectrum['F_wl'][mk]/min_spectrum.data['F_wl'][mk], lw=1)\n",
    "ax.axhline(xuv.max()/xuv.min(), zorder=0, ls='--', c='r')\n",
    "ax.set_yscale('log')\n",
    "ax.set_ylim([1,5])\n",
    "fig.tight_layout()"
   ]
  }
 ],
 "metadata": {
  "kernelspec": {
   "display_name": "Python 3",
   "language": "python",
   "name": "python3"
  },
  "language_info": {
   "codemirror_mode": {
    "name": "ipython",
    "version": 3
   },
   "file_extension": ".py",
   "mimetype": "text/x-python",
   "name": "python",
   "nbconvert_exporter": "python",
   "pygments_lexer": "ipython3",
   "version": "3.7.7"
  }
 },
 "nbformat": 4,
 "nbformat_minor": 4
}
