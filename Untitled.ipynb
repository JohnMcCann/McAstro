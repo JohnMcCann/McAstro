{
 "cells": [
  {
   "cell_type": "code",
   "execution_count": null,
   "metadata": {},
   "outputs": [],
   "source": [
    "import copy\n",
    "import math\n",
    "import numpy as np\n",
    "import pandas as pd\n",
    "from scipy import integrate, interpolate, optimize\n",
    "from scipy.signal import savgol_filter\n",
    "\n",
    "from planets.atmosphere import planet_atmosphere\n",
    "from atoms.atomic_species import atomic_species\n",
    "from glq_rates import *\n",
    "\n",
    "import matplotlib.pyplot as plt\n",
    "%matplotlib inline\n",
    "cc = plt.rcParams['axes.prop_cycle'].by_key()['color']"
   ]
  },
  {
   "cell_type": "markdown",
   "metadata": {},
   "source": [
    "# Load spectrum and species in atmosphere"
   ]
  },
  {
   "cell_type": "code",
   "execution_count": null,
   "metadata": {},
   "outputs": [],
   "source": [
    "tabler = glq_rates(date='2009-01-01')\n",
    "# set spectrum min wl\n",
    "# add species\n",
    "tabler.bin_spectrum([10e-7])\n",
    "tabler.add_species('H I', Xfrac=1.0)\n",
    "# tabler.bin_spectrum([70e-7, 80e-7])\n",
    "# tabler.add_species('He I', Xfrac=0.08)\n",
    "# tabler.add_species('He II', Xfrac=0.02)\n",
    "# tabler.finalize_initalization(normalize=True)\n",
    "# tabler.subbin(tau_cut=np.log(1e6), R2=1e-3)\n",
    "tabler.subbin(tau_cut=20, R2=2e-3)\n",
    "tabler.smooth_spectrum()\n",
    "tabler.get_max_degree()\n",
    "tabler.set_abscissas()\n",
    "print(int((tabler.max_degree+1)/2+0.5), tabler.n_bins)\n",
    "print(int((tabler.max_degree+1)/2+0.5)*tabler.n_bins)"
   ]
  },
  {
   "cell_type": "code",
   "execution_count": null,
   "metadata": {},
   "outputs": [],
   "source": [
    "written = tabler.write_csv('test.csv')"
   ]
  },
  {
   "cell_type": "code",
   "execution_count": null,
   "metadata": {},
   "outputs": [],
   "source": [
    "written"
   ]
  },
  {
   "cell_type": "code",
   "execution_count": null,
   "metadata": {},
   "outputs": [],
   "source": [
    "(written['$\\sigma_{\\lambda_i,H I}$']\n",
    " *(written['$hc/\\lambda_i$']-2.178960992000e-11)\n",
    " *written['$w_i\\phi_{\\lambda_i}$']\n",
    " *3.968275331464e+10*np.exp(-(written['$\\sigma_{\\lambda_i,H I}$']*3.42675e15))\n",
    ").sum()"
   ]
  },
  {
   "cell_type": "code",
   "execution_count": null,
   "metadata": {},
   "outputs": [],
   "source": [
    "3.828275331464e10/np.exp(-(written['$\\sigma_{\\lambda_i,H I}$']*3.42675e15).sum())"
   ]
  },
  {
   "cell_type": "code",
   "execution_count": null,
   "metadata": {},
   "outputs": [],
   "source": [
    "(written['$\\sigma_{\\lambda_i,H I}$']\n",
    " *written['$w_i\\phi_{\\lambda_i}$']\n",
    " *3.968275331464e+10*np.exp(-(written['$\\sigma_{\\lambda_i,H I}$']*3.42675e15))\n",
    ").sum()"
   ]
  },
  {
   "cell_type": "code",
   "execution_count": null,
   "metadata": {},
   "outputs": [],
   "source": [
    "0.15*4.087430000000e-18, 4.087430000000e-18/(16*const.eV)"
   ]
  },
  {
   "cell_type": "code",
   "execution_count": null,
   "metadata": {},
   "outputs": [],
   "source": [
    "((written['$hc/\\lambda_i$']-2.178960992000e-11)\n",
    " *written['$w_i\\phi_{\\lambda_i}$']\n",
    " *3.428275331464e+10\n",
    ").sum()"
   ]
  },
  {
   "cell_type": "code",
   "execution_count": null,
   "metadata": {},
   "outputs": [],
   "source": [
    "mk = ((tabler.data['wl']>=tabler.bin_breaks[0])\n",
    "      &(tabler.data['wl']<=tabler.bin_breaks[-1]))\n",
    "wl = tabler.data['wl'][mk]\n",
    "F = tabler.data['F_wl'][mk]\n",
    "Phi = F*wl/const.hc\n",
    "Phi_tot = integrate.trapz(Phi, wl)\n",
    "FtoPHI = 1./integrate.trapz(Phi/Phi_tot*const.hc/wl, wl)"
   ]
  },
  {
   "cell_type": "code",
   "execution_count": null,
   "metadata": {},
   "outputs": [],
   "source": [
    "39839214801.819824/FtoPHI"
   ]
  },
  {
   "cell_type": "code",
   "execution_count": null,
   "metadata": {},
   "outputs": [],
   "source": [
    "(39839214801.819824*(const.hc/np.array(tabler.bin_absc)-2.178960992000e-11)\n",
    " *tabler.bin_wgts[0]*tabler.rescale[0]/Phi_tot\n",
    " *np.exp(tabler.log_Phi_polys[0](tabler.bin_absc[0]))\n",
    ").sum()\n",
    "\n",
    "(39839214801.819824*(const.hc/np.array(tabler.bin_absc))\n",
    " *tabler.bin_wgts[0]*tabler.rescale[0]/Phi_tot\n",
    " *np.exp(tabler.log_Phi_polys[0](tabler.bin_absc[0]))\n",
    ").sum()"
   ]
  },
  {
   "cell_type": "code",
   "execution_count": null,
   "metadata": {},
   "outputs": [],
   "source": [
    "hie = const.hc/(tabler.species_list[0].atomic_data.verner_data['E_th']*const.eV)\n",
    "ionz = tabler.data.loc[(tabler.data['wl']<=hie)&(tabler.data['wl']>=10e-7)]\n",
    "integrate.simps(ionz['F_wl'], ionz['wl'])"
   ]
  },
  {
   "cell_type": "code",
   "execution_count": null,
   "metadata": {},
   "outputs": [],
   "source": [
    "1/(16*const.eV), 16.*const.eV"
   ]
  },
  {
   "cell_type": "code",
   "execution_count": null,
   "metadata": {},
   "outputs": [],
   "source": [
    "F_tot = 0.0\n",
    "Phi_tot = 0.0\n",
    "mk = ((tabler.data['wl']>=tabler.bin_breaks[0])\n",
    "        &(tabler.data['wl']<=tabler.bin_breaks[-1]))\n",
    "wl = tabler.data['wl'][mk]\n",
    "F = tabler.data['F_wl'][mk]\n",
    "F_tot = integrate.simps(F, wl)\n",
    "Phi = F*wl/const.hc\n",
    "Phi_tot = integrate.trapz(Phi, wl)\n",
    "\n",
    "print(F_tot, Phi_tot)\n",
    "1/integrate.trapz(Phi/Phi_tot*const.hc/wl, wl)"
   ]
  },
  {
   "cell_type": "code",
   "execution_count": null,
   "metadata": {},
   "outputs": [],
   "source": [
    "1/(16*const.eV)"
   ]
  },
  {
   "cell_type": "code",
   "execution_count": null,
   "metadata": {},
   "outputs": [],
   "source": [
    "38571263870.9773*0.5213459782956448"
   ]
  },
  {
   "cell_type": "code",
   "execution_count": null,
   "metadata": {},
   "outputs": [],
   "source": [
    "crap = pd.read_csv('test.csv', comment='#', header=None)\n",
    "crap[2].sum()"
   ]
  },
  {
   "cell_type": "code",
   "execution_count": null,
   "metadata": {},
   "outputs": [],
   "source": [
    "def ion_rates(Ncols_):\n",
    "    if len(Ncols_) != tabler.n_species:\n",
    "        print('ERROR: len(Ncol) != NSPECIES')\n",
    "        return\n",
    "    x, y, z = (np.zeros(tabler.n_species) for i in range(3))\n",
    "    for ibin in range(tabler.n_bins):\n",
    "        # Gauss\n",
    "        E_absc = const.hc/const.eV/tabler.bin_absc[ibin]\n",
    "        # Full spectrum\n",
    "        mk = ((tabler.data['wl']>=tabler.bin_breaks[ibin])\n",
    "                &(tabler.data['wl']<=tabler.bin_breaks[ibin+1]))\n",
    "        F = tabler.data['F_wl'][mk]\n",
    "        wl = tabler.data['wl'][mk]\n",
    "        Phi = F*wl/const.hc\n",
    "        hnu = const.hc/const.eV/wl\n",
    "        # Optical depth\n",
    "        tau = 0.0\n",
    "        g_tau = 0.0\n",
    "        for i, s in enumerate(tabler.species_list):\n",
    "            sadsac = s.atomic_data.cross_section\n",
    "            tau += Ncols_[i]*sadsac(hnu)\n",
    "            g_tau += Ncols_[i]*sadsac(E_absc)\n",
    "        if np.any(tau >= tabler.tau_cut):\n",
    "            continue\n",
    "        for i, s in enumerate(tabler.species_list):\n",
    "            sadsac = s.atomic_data.cross_section\n",
    "            # Gauss\n",
    "            x[i] += (tabler.bin_wgts[ibin]*tabler.rescale[ibin]\n",
    "                    *np.exp(tabler.log_I_polys[ibin](tabler.bin_absc[ibin]))\n",
    "                    *sadsac(E_absc)*np.exp(-g_tau)).sum()\n",
    "            # Full spectrum\n",
    "            y[i] += integrate.simps(Phi*sadsac(hnu)*np.exp(-tau), wl)\n",
    "            # Full Poly\n",
    "            z[i] += integrate.simps(tabler.rescale[ibin]\n",
    "                                   *np.exp(tabler.log_I_polys[ibin](wl))\n",
    "                                   *sadsac(hnu)*np.exp(-tau), wl)\n",
    "    return x, y, z"
   ]
  },
  {
   "cell_type": "code",
   "execution_count": null,
   "metadata": {},
   "outputs": [],
   "source": [
    "mu = 0.0\n",
    "for s in tabler.species_list:\n",
    "    mu += s.Xfrac/s.atomic_data.A\n",
    "mu = 1/mu"
   ]
  },
  {
   "cell_type": "code",
   "execution_count": null,
   "metadata": {},
   "outputs": [],
   "source": [
    "1528*(0.01e-4)**3/(750e-7)/(2*const.mH)*1e-27"
   ]
  },
  {
   "cell_type": "code",
   "execution_count": null,
   "metadata": {},
   "outputs": [],
   "source": [
    "x.C/(x.rho_obs*R0)"
   ]
  },
  {
   "cell_type": "code",
   "execution_count": null,
   "metadata": {},
   "outputs": [],
   "source": [
    "2*const.mH*const.Mearth*const.G/const.Rearth**2/6.3e-18/1e6"
   ]
  },
  {
   "cell_type": "code",
   "execution_count": null,
   "metadata": {},
   "outputs": [],
   "source": [
    "np.exp(-21)"
   ]
  },
  {
   "cell_type": "code",
   "execution_count": null,
   "metadata": {},
   "outputs": [],
   "source": [
    "# x = planet_atmosphere(1.162*const.Mjupiter, 1.138*const.Rjupiter,\n",
    "#                       1.34e3, 2.*const.mH, model='pp')\n",
    "M0 = 3.162*const.Mearth\n",
    "R0 = 1.138*const.Rearth\n",
    "T0 = 1.34e3\n",
    "mu0 = 2.*const.mH\n",
    "\n",
    "x = planet_atmosphere(M0, R0, T0, mu0, model='iso', R_trunc=1.15)\n",
    "# y = planet_atmosphere(1e30, 1e10, 4.1e3, const.mH, model='adia')\n",
    "\n",
    "rad = np.linspace(0.8, 5, 1028)\n",
    "fig, ax = plt.subplots()\n",
    "ax.plot(rad, x.profile(rad))\n",
    "ax.set_yscale('log')\n",
    "fig.tight_layout()\n",
    "\n",
    "# kappa_opt = 6.5e-2\n",
    "kappa_opt = 1.0e-0\n",
    "kappa_uv =  1.0e-21/const.mH\n",
    "# MgSiO3_opacity = 1528*(0.01e-4)**3/(750e-7)/(2*const.mH)*1e-15*4\n",
    "# MgSiO3_opacity, 1.0e-21/const.mH\n",
    "x.planet_radius(kappa_opt, kappa_uv)\n",
    "\n",
    "np.exp(-x.C)*x.rho_obs*1.0e-21*1e3*R0/const.mH, x.rho_obs*x.cs2_iso\n",
    "# x.R_opt, x.R_uv\n",
    "\n",
    "\n",
    "x.R_opt, x.R_uv, np.exp(-x.C)"
   ]
  },
  {
   "cell_type": "code",
   "execution_count": null,
   "metadata": {},
   "outputs": [],
   "source": []
  },
  {
   "cell_type": "code",
   "execution_count": null,
   "metadata": {},
   "outputs": [],
   "source": []
  },
  {
   "cell_type": "code",
   "execution_count": null,
   "metadata": {},
   "outputs": [],
   "source": [
    "np.exp(-x.C)"
   ]
  },
  {
   "cell_type": "code",
   "execution_count": null,
   "metadata": {},
   "outputs": [],
   "source": [
    "x.cs2_iso*x.rho_obs/1e3"
   ]
  },
  {
   "cell_type": "code",
   "execution_count": null,
   "metadata": {},
   "outputs": [],
   "source": [
    "T0 = 110\n",
    "P0 = 0.1\n",
    "mu = 2*const.mH\n",
    "g = const.G*const.Mjupiter/const.Rjupiter**2\n",
    "H = const.kB*T0/mu/g"
   ]
  },
  {
   "cell_type": "code",
   "execution_count": null,
   "metadata": {},
   "outputs": [],
   "source": [
    "g/1e-2/1e6"
   ]
  },
  {
   "cell_type": "code",
   "execution_count": null,
   "metadata": {},
   "outputs": [],
   "source": [
    "T0 = 1.1e3\n",
    "P0 = 0.1\n",
    "mu = 2*const.mH\n",
    "cs2 = const.kB*T0/mu\n",
    "g = const.G*const.Mjupiter/const.Rjupiter**2\n",
    "H = cs2/g\n",
    "1e9/H"
   ]
  },
  {
   "cell_type": "code",
   "execution_count": null,
   "metadata": {},
   "outputs": [],
   "source": [
    "np.log(100)*H/const.Rjupiter"
   ]
  },
  {
   "cell_type": "code",
   "execution_count": null,
   "metadata": {},
   "outputs": [],
   "source": []
  },
  {
   "cell_type": "code",
   "execution_count": null,
   "metadata": {},
   "outputs": [],
   "source": []
  },
  {
   "cell_type": "code",
   "execution_count": null,
   "metadata": {},
   "outputs": [],
   "source": [
    "rads = np.linspace(x.R_opt, 1+2*(x.R_uv-1), 256)\n",
    "Ncols = [x.column(r) for r in rads]\n",
    "Irates = [ion_rates([tabler.species_list[0].Xfrac*n,\n",
    "                     tabler.species_list[1].Xfrac*n,\n",
    "                     tabler.species_list[2].Xfrac*n]) for n in Ncols]\n",
    "\n",
    "x.R_opt, x.R_uv"
   ]
  },
  {
   "cell_type": "code",
   "execution_count": null,
   "metadata": {},
   "outputs": [],
   "source": [
    "HI_rates = [rate[0][0] for rate in Irates]\n",
    "HI_rates = [tabler.species_list[0].Xfrac*n*I\n",
    "            for n, I in zip(x.rho_obs/x.mu*x.profile(rads), HI_rates)]\n",
    "HeI_rates = [rate[0][1] for rate in Irates]\n",
    "HeI_rates = [tabler.species_list[1].Xfrac*n*I\n",
    "             for n, I in zip(x.rho_obs/x.mu*x.profile(rads), HeI_rates)]\n",
    "HeII_rates = [rate[0][2] for rate in Irates]\n",
    "HeII_rates = [tabler.species_list[2].Xfrac*n*I\n",
    "              for n, I in zip(x.rho_obs/x.mu*x.profile(rads), HeII_rates)]"
   ]
  },
  {
   "cell_type": "code",
   "execution_count": null,
   "metadata": {},
   "outputs": [],
   "source": [
    "fig, ax = plt.subplots()\n",
    "\n",
    "ax.plot(rads, HI_rates, '-')\n",
    "ax.plot(rads, HeI_rates, '-')\n",
    "ax.plot(rads, HeII_rates, '--')\n",
    "\n",
    "ax.axvline(x.R_opt)\n",
    "ax.axvline(x.R_uv)\n",
    "ax.set_yscale('log')\n",
    "fig.tight_layout()"
   ]
  },
  {
   "cell_type": "code",
   "execution_count": null,
   "metadata": {},
   "outputs": [],
   "source": [
    "y = radius.planet_atmosphere(1e30, 1e10, 2.6e3, mu*const.mH, model='adia')\n",
    "y.planet_radius(0.1, 1.0e-21/const.mH)\n",
    "\n",
    "x.profile(x.R_uv)*x.rho_obs/y.rho_obs"
   ]
  },
  {
   "cell_type": "code",
   "execution_count": null,
   "metadata": {},
   "outputs": [],
   "source": [
    "fig, ax = plt.subplots()\n",
    "\n",
    "ax.plot(rads, x.profile(rads))\n",
    "ax.plot(rads, y.profile(rads)/y.profile(x.R_uv)*x.profile(x.R_uv))\n",
    "\n",
    "ax.axvline(x.R_opt)\n",
    "x.planet_radius(0.1, 6.3e-18/const.mH)\n",
    "ax.axvline(x.R_uv)\n",
    "x.planet_radius(0.1, 1.0e-21/const.mH)\n",
    "ax.axvline(x.R_uv)\n",
    "ax.set_yscale('log')\n",
    "fig.tight_layout()"
   ]
  },
  {
   "cell_type": "code",
   "execution_count": null,
   "metadata": {},
   "outputs": [],
   "source": []
  },
  {
   "cell_type": "code",
   "execution_count": null,
   "metadata": {},
   "outputs": [],
   "source": []
  },
  {
   "cell_type": "code",
   "execution_count": null,
   "metadata": {},
   "outputs": [],
   "source": []
  },
  {
   "cell_type": "code",
   "execution_count": null,
   "metadata": {},
   "outputs": [],
   "source": []
  },
  {
   "cell_type": "code",
   "execution_count": null,
   "metadata": {},
   "outputs": [],
   "source": []
  },
  {
   "cell_type": "code",
   "execution_count": null,
   "metadata": {},
   "outputs": [],
   "source": []
  },
  {
   "cell_type": "code",
   "execution_count": null,
   "metadata": {},
   "outputs": [],
   "source": []
  },
  {
   "cell_type": "code",
   "execution_count": null,
   "metadata": {},
   "outputs": [],
   "source": []
  },
  {
   "cell_type": "code",
   "execution_count": null,
   "metadata": {},
   "outputs": [],
   "source": []
  },
  {
   "cell_type": "code",
   "execution_count": null,
   "metadata": {},
   "outputs": [],
   "source": [
    "cs2 = const.kB*1.1e3/const.mH\n",
    "gamma = 1.000000000001\n",
    "Rp = 1e10\n",
    "Mp = 5e29\n",
    "rad = np.logspace(np.log10(1), np.log10(0.5), 2**6)[::-1]\n",
    "# rad = np.logspace(np.log10(0.5), np.log10(5), 2**6)\n",
    "n = (1+(gamma-1)*const.G*Mp/(Rp*gamma*cs2)*(1/rad-1))**(1/(gamma-1))\n",
    "N = -integrate.cumtrapz(n[::-1], Rp*rad[::-1], initial=0)[::-1]\n",
    "N"
   ]
  },
  {
   "cell_type": "code",
   "execution_count": null,
   "metadata": {},
   "outputs": [],
   "source": [
    "y = [ion_rates([n]) for n in N]"
   ]
  },
  {
   "cell_type": "code",
   "execution_count": null,
   "metadata": {},
   "outputs": [],
   "source": [
    "fig, ax = plt.subplots()\n",
    "\n",
    "ax.plot(N, n*[I[0] for I in y], '-', lw=10)\n",
    "ax.plot(N, n*[I[1] for I in y], '-')\n",
    "\n",
    "ax.set_xscale('log')\n",
    "ax.set_yscale('log')\n",
    "fig.tight_layout()"
   ]
  },
  {
   "cell_type": "code",
   "execution_count": null,
   "metadata": {},
   "outputs": [],
   "source": [
    "1e3/(14*const.mH)"
   ]
  },
  {
   "cell_type": "code",
   "execution_count": null,
   "metadata": {},
   "outputs": [],
   "source": [
    "ibin = 0\n",
    "(tabler.bin_wgts[ibin]*tabler.rescale[ibin]\n",
    " *np.exp(tabler.log_I_polys[ibin](tabler.bin_absc[ibin])))/1e6"
   ]
  },
  {
   "cell_type": "code",
   "execution_count": null,
   "metadata": {},
   "outputs": [],
   "source": [
    "tabler.species_list[0].atomic_data.cross_section(const.hc/const.eV/tabler.bin_absc[ibin])"
   ]
  },
  {
   "cell_type": "code",
   "execution_count": null,
   "metadata": {},
   "outputs": [],
   "source": [
    "const.hc/tabler.bin_absc[ibin]"
   ]
  },
  {
   "cell_type": "code",
   "execution_count": null,
   "metadata": {},
   "outputs": [],
   "source": [
    "table = []\n",
    "norms = [1]\n",
    "for ibin in range(tabler.n_bins):\n",
    "    headers = ['bin']\n",
    "    col1 = tabler.bin_absc[ibin]/norms[0]\n",
    "    headers += [r'$\\lambda_i$']\n",
    "    hnu = const.hc/const.eV/(tabler.bin_absc[ibin])\n",
    "    col2 = (tabler.bin_wgts[ibin]\n",
    "            *tabler.rescale[ibin]\n",
    "            *np.exp(tabler.log_polys[ibin](tabler.bin_absc[ibin])))\n",
    "    col2 /= const.hc/(tabler.bin_absc[ibin])\n",
    "    headers += [r'$w_i\\Phi_{\\lambda_i}$']\n",
    "    col0 = np.ones(len(col1), dtype=int)*ibin\n",
    "    binrows = np.column_stack([col0, col1, col2])\n",
    "    for i, s in enumerate(tabler.species_list):\n",
    "        colsA = s.atomic_data.cross_section(hnu)/norms[0]\n",
    "        headers += [rf'$\\sigma_{{\\lambda_i,{s.atomic_data.name}}}$']\n",
    "        binrows = np.column_stack([binrows, colsA])\n",
    "    table.append(binrows)\n",
    "header_comment = f'# NBINS {tabler.n_bins}\\n# NABSCISSAS {len(col0)}\\n# '\n",
    "for h in headers:\n",
    "    header_comment += h+', '\n",
    "header_comment = header_comment[:-2]+'\\n'\n",
    "table = np.vstack(table)\n",
    "df = pd.DataFrame(table, columns=headers)\n",
    "df = df.convert_dtypes()\n",
    "with open('test.csv', 'w') as file_:\n",
    "    file_.write(header_comment)\n",
    "    df.to_csv(file_, index=False, header=False, float_format='%.17e')"
   ]
  },
  {
   "cell_type": "code",
   "execution_count": null,
   "metadata": {},
   "outputs": [],
   "source": [
    "table = []\n",
    "norms = [1e-7, 6.3e-18, 1.86e-12, 3.26e-7]\n",
    "for ibin in range(tabler.n_bins):\n",
    "    headers = []\n",
    "    col0 = tabler.bin_absc[ibin]/norms[0]\n",
    "    headers += [r'$\\lambda_i$']\n",
    "    hnu = const.hc/const.eV/(col0*norms[0])\n",
    "    col1 = (tabler.bin_wgts[ibin]\n",
    "            *tabler.rescale[ibin]\n",
    "            *np.exp(tabler.log_polys[ibin](tabler.bin_absc[ibin])))\n",
    "    headers += [r'$w_i\\Phi_{\\lambda_i}$']\n",
    "    binrows = np.column_stack([col0, col1])\n",
    "    for i, s in enumerate(tabler.species_list):\n",
    "        colsA = s.atomic_data.cross_section(hnu)/norms[1]\n",
    "        colsB = s.atomic_data.cross_section_derivative(hnu, wrt='lambda')/norms[2]\n",
    "        colsC = s.atomic_data.cross_section_second_derivative(hnu, wrt='lambda')/norms[3]\n",
    "        headers += [rf'$\\sigma_{{\\lambda,{i}}}$',\n",
    "                    rf'$\\partial_{{\\lambda}} \\sigma_{{\\lambda,{i}}}$',\n",
    "                    rf'$\\partial_{{\\lambda}}^2 \\sigma_{{\\lambda,{i}}}$']\n",
    "        binrows = np.column_stack([binrows, colsA, colsB, colsC])\n",
    "    table.append(binrows)\n",
    "table = np.vstack(table)\n",
    "pd.DataFrame(table, columns=headers)"
   ]
  },
  {
   "cell_type": "code",
   "execution_count": null,
   "metadata": {},
   "outputs": [],
   "source": [
    "tabler.rescale[ibin]*np.exp(tabler.log_polys[ibin](tabler.bin_absc[ibin]))\n",
    "         *tabler.bin_wgts[ibin]*s1.cross_section(E_absc)"
   ]
  },
  {
   "cell_type": "code",
   "execution_count": null,
   "metadata": {},
   "outputs": [],
   "source": []
  },
  {
   "cell_type": "code",
   "execution_count": null,
   "metadata": {},
   "outputs": [],
   "source": [
    "mask = ((tabler.data['wl']>=tabler.bin_breaks[0])\n",
    "        &(tabler.data['wl']<=tabler.bin_breaks[-1]))\n",
    "wavelengths = tabler.data['wl']\n",
    "F_wl = tabler.data['F_wl']\n",
    "F_tilda = tabler.data['F_savgol']\n",
    "F_poly = tabler.data['F_poly']\n",
    "I_wl = F_wl*wavelengths/const.hc\n",
    "F_tot = integrate.simps(F_wl[mask], wavelengths[mask])\n",
    "I_tot = integrate.simps(I_wl[mask], wavelengths[mask])\n",
    "\n",
    "# Plot\n",
    "fig, ax = plt.subplots()\n",
    "ax.plot(wavelengths[mask]*1e7, F_wl[mask], c=cc[7], lw=1, zorder=0)\n",
    "# ax.plot(wavelengths[mask]*1e7, F_tilda[mask], c=cc[8], lw=3, zorder=1)\n",
    "ax.plot(wavelengths[mask]*1e7, F_poly[mask], c=cc[3], marker='.', ms=5, lw=0, zorder=2)\n",
    "for edge in tabler.bin_breaks:\n",
    "    ax.axvline(edge*1e7, lw=1, c=cc[0], zorder=0)\n",
    "for edge in tabler.original_bins:\n",
    "    ax.axvline(edge*1e7, lw=1, c=cc[1], zorder=0)\n",
    "ax.set_ylabel(r'$F_{\\lambda}$')\n",
    "ax.set_xlabel(r'$\\lambda$ (nm)')\n",
    "# ax.set_xscale('log')\n",
    "ax.set_yscale('log')"
   ]
  },
  {
   "cell_type": "markdown",
   "metadata": {},
   "source": [
    "## Integration"
   ]
  },
  {
   "cell_type": "code",
   "execution_count": null,
   "metadata": {},
   "outputs": [],
   "source": [
    "for ibin in range(tabler.n_bins):\n",
    "    # Gauss\n",
    "    x = (tabler.rescale[ibin]*np.exp(tabler.log_polys[ibin](tabler.bin_absc[ibin]))\n",
    "         *tabler.bin_wgts[ibin]).sum()\n",
    "    # Full spectrum\n",
    "    mk = ((tabler.data['wl']>=tabler.bin_breaks[ibin])\n",
    "            &(tabler.data['wl']<=tabler.bin_breaks[ibin+1]))\n",
    "    wl = tabler.data['wl'][mk]\n",
    "    F = tabler.data['F_wl'][mk]\n",
    "    y = integrate.simps(F, wl)\n",
    "    # Full Poly\n",
    "    z = integrate.simps(tabler.rescale[ibin]*np.exp(tabler.log_polys[ibin](wl)),\n",
    "                        wl)\n",
    "    print(f'{abs(1-x/y):.2e}, {abs(1-x/z):.2e}')"
   ]
  },
  {
   "cell_type": "code",
   "execution_count": null,
   "metadata": {},
   "outputs": [],
   "source": [
    "s1 = tabler.species_list[0].atomic_data\n",
    "\n",
    "for ibin in range(tabler.n_bins):\n",
    "    # Gauss\n",
    "    E_absc = const.hc/const.eV/tabler.bin_absc[ibin]\n",
    "    x = (tabler.rescale[ibin]*np.exp(tabler.log_polys[ibin](tabler.bin_absc[ibin]))\n",
    "         *tabler.bin_wgts[ibin]*s1.cross_section(E_absc)).sum()\n",
    "    # Full spectrum\n",
    "    mk = ((tabler.data['wl']>=tabler.bin_breaks[ibin])\n",
    "            &(tabler.data['wl']<=tabler.bin_breaks[ibin+1]))\n",
    "    wl = tabler.data['wl'][mk]\n",
    "    hnu = const.hc/const.eV/wl\n",
    "    F = tabler.data['F_wl'][mk]\n",
    "    y = integrate.simps(F*s1.cross_section(hnu), wl)\n",
    "    # Full Poly\n",
    "    z = integrate.simps(tabler.rescale[ibin]*np.exp(tabler.log_polys[ibin](wl))\n",
    "                        *s1.cross_section(hnu),\n",
    "                        wl)\n",
    "    print(f'{abs(1-x/y):.2e}, {abs(1-x/z):.2e}, '\n",
    "          f'{len(wl)} vs {len(tabler.bin_absc[ibin])}')"
   ]
  },
  {
   "cell_type": "code",
   "execution_count": null,
   "metadata": {},
   "outputs": [],
   "source": [
    "s1 = tabler.species_list[0].atomic_data\n",
    "Ncols = [1.0e20, 1.0e19, 1.0e15]\n",
    "\n",
    "for ibin in range(tabler.n_bins):\n",
    "    # Gauss\n",
    "    E_absc = const.hc/const.eV/tabler.bin_absc[ibin]\n",
    "    # Full spectrum\n",
    "    mk = ((tabler.data['wl']>=tabler.bin_breaks[ibin])\n",
    "            &(tabler.data['wl']<=tabler.bin_breaks[ibin+1]))\n",
    "    wl = tabler.data['wl'][mk]\n",
    "    hnu = const.hc/const.eV/wl\n",
    "    # Optical depth\n",
    "    tau = 0.0\n",
    "    g_tau = 0.0\n",
    "    for i, s in enumerate(tabler.species_list):\n",
    "        sadsac = s.atomic_data.cross_section\n",
    "        tau += Ncols[i]*sadsac(hnu)\n",
    "        g_tau += Ncols[i]*sadsac(E_absc)\n",
    "    # Gauss\n",
    "    x = (tabler.rescale[ibin]*np.exp(tabler.log_polys[ibin](tabler.bin_absc[ibin]))\n",
    "         *tabler.bin_wgts[ibin]*s1.cross_section(E_absc)*np.exp(-g_tau)).sum()\n",
    "    # Full spectrum\n",
    "    F = tabler.data['F_wl'][mk]\n",
    "    y = integrate.simps(F*s1.cross_section(hnu)*np.exp(-tau), wl)\n",
    "    # Full Poly\n",
    "    z = integrate.simps(tabler.rescale[ibin]*np.exp(tabler.log_polys[ibin](wl))\n",
    "                        *s1.cross_section(hnu)*np.exp(-tau),\n",
    "                        wl)\n",
    "    print(f'{x:.2e}, {abs(1-x/y):.2e}, {abs(1-x/z):.2e}')"
   ]
  },
  {
   "cell_type": "code",
   "execution_count": null,
   "metadata": {},
   "outputs": [],
   "source": [
    "def rate_errors(N1, N2, N3):\n",
    "    Ncols_ = [N1, N2, N3]\n",
    "    x, y, z = (np.zeros(tabler.n_species) for i in range(3))\n",
    "    for ibin in range(tabler.n_bins):\n",
    "        # Gauss\n",
    "        E_absc = const.hc/const.eV/tabler.bin_absc[ibin]\n",
    "        # Full spectrum\n",
    "        mk = ((tabler.data['wl']>=tabler.bin_breaks[ibin])\n",
    "                &(tabler.data['wl']<=tabler.bin_breaks[ibin+1]))\n",
    "        F = tabler.data['F_wl'][mk]\n",
    "        wl = tabler.data['wl'][mk]\n",
    "        hnu = const.hc/const.eV/wl\n",
    "        # Optical depth\n",
    "        tau = 0.0\n",
    "        g_tau = 0.0\n",
    "        for i, s in enumerate(tabler.species_list):\n",
    "            sadsac = s.atomic_data.cross_section\n",
    "            tau += Ncols_[i]*sadsac(hnu)\n",
    "            g_tau += Ncols_[i]*sadsac(E_absc)\n",
    "        if np.any(tau >= tabler.tau_cut):\n",
    "            continue\n",
    "        for i, s in enumerate(tabler.species_list):\n",
    "            sadsac = s.atomic_data.cross_section\n",
    "            # Gauss\n",
    "            x[i] += (tabler.bin_wgts[ibin]*tabler.rescale[ibin]\n",
    "                    *np.exp(tabler.log_polys[ibin](tabler.bin_absc[ibin]))\n",
    "                    *sadsac(E_absc)*np.exp(-g_tau)).sum()\n",
    "            # Full spectrum\n",
    "            y[i] += integrate.simps(F*sadsac(hnu)*np.exp(-tau), wl)\n",
    "            # Full Poly\n",
    "            z[i] += integrate.simps(tabler.rescale[ibin]\n",
    "                                   *np.exp(tabler.log_polys[ibin](wl))\n",
    "                                   *sadsac(hnu)*np.exp(-tau), wl)\n",
    "    return ((1.-x/y), (1.-x/z))"
   ]
  },
  {
   "cell_type": "code",
   "execution_count": null,
   "metadata": {},
   "outputs": [],
   "source": [
    "Column_densities = [np.logspace(16, 21, 7)\n",
    "                    for i in range(tabler.n_species)]\n",
    "max_fit_error = [0.0,]*tabler.n_species\n",
    "max_fit_loc = [[0,0,0],]*tabler.n_species\n",
    "max_smooth_error = [0.0,]*tabler.n_species\n",
    "max_smooth_loc = [[0,0,0],]*tabler.n_species\n",
    "\n",
    "for n1 in Column_densities[0]:\n",
    "    for n2 in Column_densities[1]:\n",
    "        for n3 in Column_densities[2]:\n",
    "            fit_error, smooth_error = rate_errors(n1, n2, n3)\n",
    "            for i, error in enumerate(max_smooth_error):\n",
    "                if abs(error) < abs(smooth_error[i]):\n",
    "                    max_smooth_loc[i] = [n1,n2,n3]\n",
    "                    max_smooth_error[i] = smooth_error[i]\n",
    "            for i, error in enumerate(max_fit_error):\n",
    "                if abs(error) < abs(fit_error[i]):\n",
    "                    max_fit_loc[i] = [n1,n2,n3]\n",
    "                    max_fit_error[i] = fit_error[i]"
   ]
  },
  {
   "cell_type": "code",
   "execution_count": null,
   "metadata": {},
   "outputs": [],
   "source": [
    "print(max_fit_error)\n",
    "print(max_fit_loc)\n",
    "print(max_smooth_error)\n",
    "print(max_smooth_loc)"
   ]
  },
  {
   "cell_type": "code",
   "execution_count": null,
   "metadata": {},
   "outputs": [],
   "source": [
    "rate_errors(1e21, 1e21, 1e21)"
   ]
  },
  {
   "cell_type": "code",
   "execution_count": null,
   "metadata": {},
   "outputs": [],
   "source": []
  },
  {
   "cell_type": "markdown",
   "metadata": {},
   "source": [
    "# Bin spectrum based on how cross sections behave"
   ]
  },
  {
   "cell_type": "code",
   "execution_count": null,
   "metadata": {},
   "outputs": [],
   "source": [
    "original_bins = tabler.bin_breaks"
   ]
  },
  {
   "cell_type": "code",
   "execution_count": null,
   "metadata": {},
   "outputs": [],
   "source": [
    "tau_cut = 10\n",
    "R2 = 1e-2\n",
    "\n",
    "half_span = np.inf\n",
    "dwl = 0.0\n",
    "new_bins = [None]\n",
    "while new_bins != []:\n",
    "    new_bins = []\n",
    "    for ibin in range(tabler.n_bins):\n",
    "        # Go from right\n",
    "        r0_edge = 0.9999999*tabler.bin_breaks[ibin+1]\n",
    "        l0_edge = 1.0000001*tabler.bin_breaks[ibin]\n",
    "        max_l0 = l0_edge\n",
    "        max_r0 = r0_edge\n",
    "        last_sucessful0 = r0_edge\n",
    "        last_fail0 = l0_edge\n",
    "        # Loop checking bins: half_span > dwl\n",
    "        while True:\n",
    "            half_span = (r0_edge-l0_edge)/2\n",
    "            wl = np.linspace(l0_edge, r0_edge, 4096)[1:-1]\n",
    "            hnu = const.hc/const.eV/wl\n",
    "            # Get relavant species in width\n",
    "            species = []\n",
    "            d3s_max = []\n",
    "            s_min = []\n",
    "            for s in tabler.species_list:\n",
    "                sigma = s.atomic_data.cross_section(const.hc/const.eV/wl)\n",
    "                if sigma.any():\n",
    "                    if not sigma.all():\n",
    "                        print(f'WARNING: {s.atomic_data.name} has zero in array')\n",
    "                    species.append(s)\n",
    "                    d3 = (s.atomic_data\n",
    "                          .cross_section_third_derivative(hnu, wrt='lambda'))\n",
    "                    d3s_max.append(abs(d3).max())\n",
    "                    s_min.append(sigma.min())\n",
    "            dwl0 = 0.0\n",
    "            for i in range(len(s_min)):\n",
    "                dwl0 += d3s_max[i]/s_min[i]\n",
    "            dwl0 = 1./dwl0\n",
    "            dwl0 *= 6.*R2/tau_cut\n",
    "            if dwl0 < 0:\n",
    "                print(s_min, d3s_max, dwl0)\n",
    "                sys.exit()\n",
    "            else:\n",
    "                dwl0 = (dwl0)**(1./3.)\n",
    "            if abs(1.-dwl0/half_span) < 1e-3:\n",
    "                break\n",
    "            if dwl0 > half_span:\n",
    "                if last_fail0 == l0_edge:\n",
    "                    break\n",
    "                last_sucessful0 = l0_edge\n",
    "                l0_edge -= (l0_edge-last_fail0)/2\n",
    "            else:\n",
    "                last_fail0 = l0_edge\n",
    "                l0_edge += (last_sucessful0-l0_edge)/2\n",
    "        # Go from left\n",
    "        r1_edge = 0.999*tabler.bin_breaks[ibin+1]\n",
    "        l1_edge = 1.00001*tabler.bin_breaks[ibin]\n",
    "        max_l1 = l1_edge\n",
    "        max_r1 = r1_edge\n",
    "        last_sucessful1 = l1_edge\n",
    "        last_fail1 = r1_edge\n",
    "        # Loop checking bins: half_span > dwl\n",
    "        while True:\n",
    "            half_span = (r1_edge-l1_edge)/2\n",
    "            wl = np.linspace(l1_edge, r1_edge, 4096)[1:-1]\n",
    "            hnu = const.hc/const.eV/wl\n",
    "            # Get relavant species in width\n",
    "            species = []\n",
    "            d3s_max = []\n",
    "            s_min = []\n",
    "            for s in tabler.species_list:\n",
    "                sigma = s.atomic_data.cross_section(const.hc/const.eV/wl)\n",
    "                if sigma.any():\n",
    "                    if not sigma.all():\n",
    "                        print(f'WARNING: {s.atomic_data.name} has zero in array')\n",
    "                    species.append(s)\n",
    "                    d3 = (s.atomic_data\n",
    "                          .cross_section_third_derivative(hnu, wrt='lambda'))\n",
    "                    d3s_max.append(abs(d3).max())\n",
    "                    s_min.append(sigma.min())\n",
    "            dwl1 = 0.0\n",
    "            for i in range(len(s_min)):\n",
    "                dwl1 += d3s_max[i]/s_min[i]\n",
    "            dwl1 = 1./dwl1\n",
    "            dwl1 *= 6.*R2/tau_cut\n",
    "            if dwl1 < 0:\n",
    "                print(s_min, d3s_max, dwl1)\n",
    "                sys.exit()\n",
    "            else:\n",
    "                dwl1 = (dwl1)**(1./3.)\n",
    "            if abs(1.-dwl1/half_span) < 1e-3:\n",
    "                break\n",
    "            if dwl1 > half_span:\n",
    "                if last_fail1 == r1_edge:\n",
    "                    break\n",
    "                last_sucessful1 = r1_edge\n",
    "                r1_edge -= (r1_edge-last_fail1)/2\n",
    "            else:\n",
    "                last_fail1 = r1_edge\n",
    "                r1_edge += (last_sucessful1-r1_edge)/2\n",
    "        # hifsd\n",
    "        add0 = True\n",
    "        add1 = True\n",
    "        if last_sucessful0 == r0_edge and last_fail0 == l0_edge:\n",
    "            add0 = False\n",
    "        elif (r0_edge+l0_edge)/2-dwl0 <= max_l0:\n",
    "            add0 = False\n",
    "        if last_sucessful1 == r1_edge and last_fail1 == l1_edge:\n",
    "            add1 = False\n",
    "        elif (r1_edge+l1_edge)/2+dwl1 >= max_r1:\n",
    "            add1 = False\n",
    "        loc0 = (r0_edge+l0_edge)/2-dwl0\n",
    "        loc1 = (r1_edge+l1_edge)/2+dwl1\n",
    "        width = r0_edge-l1_edge\n",
    "        gap = width-2*(dwl0+dwl1)\n",
    "        split = False\n",
    "        if gap < dwl0 and gap < dwl1:\n",
    "            split = True\n",
    "            inc = width/3\n",
    "        if add0 and add1:\n",
    "            if gap <= 0:\n",
    "                new_bins += [(r0_edge+l1_edge)/2]\n",
    "            elif split:\n",
    "                new_bins += [max_l1+inc, max_l1+2*inc]\n",
    "            else:\n",
    "                new_bins += [(r1_edge+l1_edge)/2+dwl1,\n",
    "                             (r0_edge+l0_edge)/2-dwl0]\n",
    "        elif add0:\n",
    "            new_bins += [(r0_edge+l0_edge)/2-dwl0]\n",
    "        elif add1:\n",
    "            new_bins += [(r1_edge+l1_edge)/2+dwl1]\n",
    "        else:\n",
    "            pass\n",
    "    tabler.bin_spectrum(list(tabler.bin_breaks)+new_bins)"
   ]
  },
  {
   "cell_type": "code",
   "execution_count": null,
   "metadata": {},
   "outputs": [],
   "source": [
    "# tau_cut = 10\n",
    "# R1 = 1e-1\n",
    "\n",
    "# half_span = np.inf\n",
    "# dwl = 0.0\n",
    "# new_bins = [None]\n",
    "# while new_bins != []:\n",
    "#     new_bins = []\n",
    "#     for ibin in range(tabler.n_bins):\n",
    "#         # Go from right\n",
    "#         r0_edge = 0.9999999*tabler.bin_breaks[ibin+1]\n",
    "#         l0_edge = 1.0000001*tabler.bin_breaks[ibin]\n",
    "#         max_l0 = l0_edge\n",
    "#         max_r0 = r0_edge\n",
    "#         last_sucessful0 = r0_edge\n",
    "#         last_fail0 = l0_edge\n",
    "#         # Loop checking bins: half_span > dwl\n",
    "#         while True:\n",
    "#             half_span = (r0_edge-l0_edge)/2\n",
    "#             wl = np.linspace(l0_edge, r0_edge, 4096)[1:-1]\n",
    "#             hnu = const.hc/const.eV/wl\n",
    "#             # Get relavant species in width\n",
    "#             species = []\n",
    "#             d2s_max = []\n",
    "#             s_min = []\n",
    "#             for s in tabler.species_list:\n",
    "#                 sigma = s.atomic_data.cross_section(const.hc/const.eV/wl)\n",
    "#                 if sigma.any():\n",
    "#                     if not sigma.all():\n",
    "#                         print(f'WARNING: {s.atomic_data.name} has zero in array')\n",
    "#                     species.append(s)\n",
    "#                     d2 = (s.atomic_data\n",
    "#                           .cross_section_second_derivative(hnu, wrt='lambda'))\n",
    "#                     d2s_max.append(abs(d2).max())\n",
    "#                     s_min.append(sigma.min())\n",
    "#             dwl0 = 0.0\n",
    "#             for i in range(len(s_min)):\n",
    "#                 dwl0 += d2s_max[i]/s_min[i]\n",
    "#             dwl0 = 1./dwl0\n",
    "#             dwl0 *= 2.*R1/tau_cut\n",
    "#             if dwl0 < 0:\n",
    "#                 print(s_min, d2s_max, dwl0)\n",
    "#                 sys.exit()\n",
    "#             else:\n",
    "#                 dwl0 = np.sqrt(dwl0)\n",
    "#             if abs(1.-dwl0/half_span) < 1e-3:\n",
    "#                 break\n",
    "#             if dwl0 > half_span:\n",
    "#                 if last_fail0 == l0_edge:\n",
    "#                     break\n",
    "#                 last_sucessful0 = l0_edge\n",
    "#                 l0_edge -= (l0_edge-last_fail0)/2\n",
    "#             else:\n",
    "#                 last_fail0 = l0_edge\n",
    "#                 l0_edge += (last_sucessful0-l0_edge)/2\n",
    "#         # Go from left\n",
    "#         r1_edge = 0.999*tabler.bin_breaks[ibin+1]\n",
    "#         l1_edge = 1.00001*tabler.bin_breaks[ibin]\n",
    "#         max_l1 = l1_edge\n",
    "#         max_r1 = r1_edge\n",
    "#         last_sucessful1 = l1_edge\n",
    "#         last_fail1 = r1_edge\n",
    "#         # Loop checking bins: half_span > dwl\n",
    "#         while True:\n",
    "#             half_span = (r1_edge-l1_edge)/2\n",
    "#             wl = np.linspace(l1_edge, r1_edge, 4096)[1:-1]\n",
    "#             hnu = const.hc/const.eV/wl\n",
    "#             # Get relavant species in width\n",
    "#             species = []\n",
    "#             d2s_max = []\n",
    "#             s_min = []\n",
    "#             for s in tabler.species_list:\n",
    "#                 sigma = s.atomic_data.cross_section(const.hc/const.eV/wl)\n",
    "#                 if sigma.any():\n",
    "#                     if not sigma.all():\n",
    "#                         print(f'WARNING: {s.atomic_data.name} has zero in array')\n",
    "#                     species.append(s)\n",
    "#                     d2 = (s.atomic_data\n",
    "#                           .cross_section_second_derivative(hnu, wrt='lambda'))\n",
    "#                     d2s_max.append(abs(d2).max())\n",
    "#                     s_min.append(sigma.min())\n",
    "#             dwl1 = 0.0\n",
    "#             for i in range(len(s_min)):\n",
    "#                 dwl1 += d2s_max[i]/s_min[i]\n",
    "#             dwl1 = 1./dwl1\n",
    "#             dwl1 *= 2.*R1/tau_cut\n",
    "#             if dwl1 < 0:\n",
    "#                 print(s_min, d2s_max, dwl1)\n",
    "#                 sys.exit()\n",
    "#             else:\n",
    "#                 dwl1 = np.sqrt(dwl1)\n",
    "#             if abs(1.-dwl1/half_span) < 1e-3:\n",
    "#                 break\n",
    "#             if dwl1 > half_span:\n",
    "#                 if last_fail1 == r1_edge:\n",
    "#                     break\n",
    "#                 last_sucessful1 = r1_edge\n",
    "#                 r1_edge -= (r1_edge-last_fail1)/2\n",
    "#             else:\n",
    "#                 last_fail1 = r1_edge\n",
    "#                 r1_edge += (last_sucessful1-r1_edge)/2\n",
    "#         # hifsd\n",
    "#         add0 = True\n",
    "#         add1 = True\n",
    "#         if last_sucessful0 == r0_edge and last_fail0 == l0_edge:\n",
    "#             add0 = False\n",
    "#         elif (r0_edge+l0_edge)/2-dwl0 <= max_l0:\n",
    "#             add0 = False\n",
    "#         if last_sucessful1 == r1_edge and last_fail1 == l1_edge:\n",
    "#             add1 = False\n",
    "#         elif (r1_edge+l1_edge)/2+dwl1 >= max_r1:\n",
    "#             add1 = False\n",
    "#         loc0 = (r0_edge+l0_edge)/2-dwl0\n",
    "#         loc1 = (r1_edge+l1_edge)/2+dwl1\n",
    "#         width = r0_edge-l1_edge\n",
    "#         gap = width-2*(dwl0+dwl1)\n",
    "#         split = False\n",
    "#         if gap < dwl0 and gap < dwl1:\n",
    "#             split = True\n",
    "#             inc = width/3\n",
    "#         if add0 and add1:\n",
    "#             if gap <= 0:\n",
    "#                 new_bins += [(r0_edge+l1_edge)/2]\n",
    "#             elif split:\n",
    "#                 new_bins += [max_l1+inc, max_l1+2*inc]\n",
    "#             else:\n",
    "#                 new_bins += [(r1_edge+l1_edge)/2+dwl1,\n",
    "#                              (r0_edge+l0_edge)/2-dwl0]\n",
    "#         elif add0:\n",
    "#             new_bins += [(r0_edge+l0_edge)/2-dwl0]\n",
    "#         elif add1:\n",
    "#             new_bins += [(r1_edge+l1_edge)/2+dwl1]\n",
    "#         else:\n",
    "#             pass\n",
    "#     tabler.bin_spectrum(list(tabler.bin_breaks)+new_bins)"
   ]
  },
  {
   "cell_type": "markdown",
   "metadata": {},
   "source": [
    "## Smooth spectrums using a savgol filter"
   ]
  },
  {
   "cell_type": "code",
   "execution_count": null,
   "metadata": {},
   "outputs": [],
   "source": [
    "wavelengths = tabler.data['wl']\n",
    "F_wl = tabler.data['F_wl']\n",
    "I_wl = F_wl*wavelengths/const.hc\n",
    "# smooth functions\n",
    "F_hat = savgol_filter(np.log(F_wl), 89, 8, deriv=0)\n",
    "I_hat = savgol_filter(np.log(I_wl), 89, 8, deriv=0)"
   ]
  },
  {
   "cell_type": "code",
   "execution_count": null,
   "metadata": {},
   "outputs": [],
   "source": [
    "# mask data\n",
    "mask = ((tabler.data['wl']>=tabler.bin_breaks[0])\n",
    "        &(tabler.data['wl']<=tabler.bin_breaks[-1]))\n",
    "F_tot = integrate.simps(F_wl[mask], wavelengths[mask])\n",
    "I_tot = integrate.simps(I_wl[mask], wavelengths[mask])\n",
    "# calc cumtrapz\n",
    "F_wl_cum = integrate.cumtrapz(F_wl[mask][::-1], wavelengths[mask],\n",
    "                              initial=0)\n",
    "F_hat_cum = integrate.cumtrapz(np.exp(F_hat[mask])[::-1], wavelengths[mask],\n",
    "                               initial=0)\n",
    "I_wl_cum = integrate.cumtrapz(I_wl[mask][::-1], wavelengths[mask],\n",
    "                              initial=0)\n",
    "I_hat_cum = integrate.cumtrapz(np.exp(I_hat[mask])[::-1], wavelengths[mask],\n",
    "                               initial=0)\n",
    "# Plot F\n",
    "fig, ax = plt.subplots()\n",
    "for edge in tabler.bin_breaks:\n",
    "    ax.axvline(edge*1e7, lw=1, c=cc[0], zorder=0)\n",
    "for edge in tabler.original_bins:\n",
    "    ax.axvline(edge*1e7, lw=1, c=cc[3], zorder=0)\n",
    "ax.plot(wavelengths[mask]*1e7, F_wl[mask], lw=2)\n",
    "ax.plot(wavelengths[mask]*1e7, np.exp(F_hat[mask]), lw=2)\n",
    "ax.set_yscale('log')\n",
    "ax.set_xlabel('Wavelegnth (nm)')\n",
    "ax.set_ylabel(r'$F_{\\lambda}$')\n",
    "fig.tight_layout()\n",
    "# Plot Phi\n",
    "fig, ax = plt.subplots()\n",
    "for edge in tabler.bin_breaks:\n",
    "    ax.axvline(edge*1e7, lw=1, c=cc[0], zorder=0)\n",
    "for edge in tabler.original_bins:\n",
    "    ax.axvline(edge*1e7, lw=1, c=cc[3], zorder=0)\n",
    "ax.plot(wavelengths[mask]*1e7, I_wl[mask], lw=2)\n",
    "ax.plot(wavelengths[mask]*1e7, np.exp(I_hat[mask]), lw=2)\n",
    "ax.set_yscale('log')\n",
    "ax.set_xlabel('Wavelegnth (nm)')\n",
    "ax.set_ylabel(r'$\\Phi_{\\lambda}$')\n",
    "fig.tight_layout()"
   ]
  },
  {
   "cell_type": "code",
   "execution_count": null,
   "metadata": {},
   "outputs": [],
   "source": [
    "if np.diff(tabler.bin_breaks).min()*1e8 < 5:\n",
    "    print('WARNING: NOT ENOUGH POINTS IN SPECTRUM FOR FITTING DATA'\n",
    "          '         Maybe just interpolate...')"
   ]
  },
  {
   "cell_type": "markdown",
   "metadata": {},
   "source": [
    "## Notice how smoothing does not conserve totals, but we only care about shape anyways"
   ]
  },
  {
   "cell_type": "code",
   "execution_count": null,
   "metadata": {},
   "outputs": [],
   "source": [
    "fig, ax = plt.subplots()\n",
    "ax.plot(wavelengths[mask]*1e7, F_wl_cum[::-1]/F_tot, label=r'$f_{\\nu}$')\n",
    "ax.plot(wavelengths[mask]*1e7, F_hat_cum[::-1]/F_tot, label=r'$\\hat{f}_{\\nu}$')\n",
    "\n",
    "ax.plot(wavelengths[mask]*1e7, I_wl_cum[::-1]/I_tot, label=r'$g_{\\nu}$')\n",
    "ax.plot(wavelengths[mask]*1e7, I_hat_cum[::-1]/I_tot, label=r'$\\hat{g}_{\\nu}$')\n",
    "\n",
    "for edge in tabler.bin_breaks:\n",
    "    ax.axvline(edge*1e7, lw=1, c=cc[0], zorder=0)\n",
    "for edge in tabler.original_bins:\n",
    "    ax.axvline(edge*1e7, lw=1, c=cc[3], zorder=0)\n",
    "\n",
    "ax.legend()\n",
    "fig.tight_layout()"
   ]
  },
  {
   "cell_type": "markdown",
   "metadata": {},
   "source": [
    "## Anyways, went ahead and normalized smoothing by bin"
   ]
  },
  {
   "cell_type": "code",
   "execution_count": null,
   "metadata": {},
   "outputs": [],
   "source": [
    "F_tilda = copy.deepcopy(F_hat)\n",
    "I_tilda = copy.deepcopy(I_hat)\n",
    "for ibin in range(tabler.n_bins):\n",
    "    # Masked data\n",
    "    mk = ((tabler.data['wl']>=tabler.bin_breaks[ibin])\n",
    "            &(tabler.data['wl']<=tabler.bin_breaks[ibin+1]))\n",
    "    wl = tabler.data['wl'][mk]\n",
    "    F = tabler.data['F_wl'][mk]\n",
    "    rescale = (integrate.simps(F, wl)\n",
    "               /integrate.simps(np.exp(F_hat[mk]), wl))\n",
    "    F_tilda[mk] = np.exp(F_hat[mk])*rescale\n",
    "    I_tilda[mk] = np.exp(I_hat[mk])*rescale\n",
    "# Plot\n",
    "fig, ax = plt.subplots()\n",
    "ax.plot(wavelengths[mask]*1e7, F_wl[mask], lw=1, marker='.', ms=5,\n",
    "        c=cc[7], zorder=1)\n",
    "ax.plot(wavelengths[mask]*1e7, np.exp(F_hat[mask]), lw=5,\n",
    "        c=cc[9], zorder=2)\n",
    "for ibin in range(tabler.n_bins):\n",
    "    mk = ((tabler.data['wl']>=tabler.bin_breaks[ibin])\n",
    "            &(tabler.data['wl']<=tabler.bin_breaks[ibin+1]))\n",
    "    ax.plot(wavelengths[mk]*1e7, F_tilda[mk], lw=3,\n",
    "            c=cc[3], zorder=3)\n",
    "for edge in tabler.bin_breaks:\n",
    "    ax.axvline(edge*1e7, lw=1, c=cc[0], zorder=0)\n",
    "for edge in tabler.original_bins:\n",
    "    ax.axvline(edge*1e7, lw=1, c=cc[3], zorder=0)\n",
    "ax.set_ylabel(r'$F_{\\lambda}$')\n",
    "ax.set_xlabel(r'$\\lambda$ (nm)')\n",
    "ax.set_yscale('log')\n",
    "# ax.set_xlim([20, 35])\n",
    "fig.tight_layout()\n",
    "# Plot\n",
    "fig, ax = plt.subplots()\n",
    "ax.plot(wavelengths[mask]*1e7, I_wl[mask], lw=1,\n",
    "        c=cc[7], zorder=2)\n",
    "ax.plot(wavelengths[mask]*1e7, np.exp(I_hat[mask]), lw=5,\n",
    "        c=cc[9], zorder=3)\n",
    "ax.plot(wavelengths[mask]*1e7, I_tilda[mask], lw=3,\n",
    "        c=cc[3], zorder=4)\n",
    "for edge in tabler.bin_breaks:\n",
    "    ax.axvline(edge*1e7, lw=1, c=cc[0], zorder=0)\n",
    "for edge in tabler.original_bins:\n",
    "    ax.axvline(edge*1e7, lw=1, c=cc[3], zorder=0)\n",
    "ax.set_ylabel(r'$\\Phi_{\\lambda}$')\n",
    "ax.set_xlabel(r'$\\lambda$ (nm)')\n",
    "ax.set_yscale('log')\n",
    "fig.tight_layout()\n",
    "\n",
    "\n",
    "\n",
    "\n",
    "F_tilda_cum = integrate.cumtrapz(F_tilda[mask][::-1], wavelengths[mask],\n",
    "                               initial=0)\n",
    "I_tilda_cum = integrate.cumtrapz(I_tilda[mask][::-1], wavelengths[mask],\n",
    "                               initial=0)\n",
    "\n",
    "fig, ax = plt.subplots()\n",
    "ax.plot(wavelengths[mask]*1e7, F_wl_cum[::-1]/F_tot,\n",
    "        label=r'$f_{\\nu}$')\n",
    "ax.plot(wavelengths[mask]*1e7, F_tilda_cum[::-1]/F_tot,\n",
    "        label=r'$\\widetilde{f}_{\\nu}$')\n",
    "ax.plot(wavelengths[mask]*1e7, I_wl_cum[::-1]/I_tot,\n",
    "        label=r'$g_{\\nu}$')\n",
    "ax.plot(wavelengths[mask]*1e7, I_tilda_cum[::-1]/I_tot,\n",
    "        label=r'$\\widetilde{g}_{\\nu}$')\n",
    "for edge in tabler.bin_breaks:\n",
    "    ax.axvline(edge*1e7, lw=1, c=cc[0], zorder=0)\n",
    "for edge in tabler.original_bins:\n",
    "    ax.axvline(edge*1e7, lw=1, c=cc[3], zorder=0)\n",
    "ax.legend()\n",
    "fig.tight_layout()"
   ]
  },
  {
   "cell_type": "markdown",
   "metadata": {},
   "source": [
    "## Fit smoothed spectrum with polynomial"
   ]
  },
  {
   "cell_type": "code",
   "execution_count": null,
   "metadata": {},
   "outputs": [],
   "source": [
    "# Plot\n",
    "fig, ax = plt.subplots()\n",
    "\n",
    "for ibin in range(tabler.n_bins):\n",
    "    # Masked data\n",
    "    mk = ((tabler.data['wl']>=tabler.bin_breaks[ibin])\n",
    "            &(tabler.data['wl']<=tabler.bin_breaks[ibin+1]))\n",
    "    wl = tabler.data['wl'][mk]\n",
    "    F = tabler.data['F_wl'][mk]\n",
    "\n",
    "    # spectrum\n",
    "#     spectrum_smoothed = interpolate.UnivariateSpline(wl, np.log(F_tilda[mk]),\n",
    "#                                                      ext=2, k=5)\n",
    "    spectrum_smoothed = interpolate.UnivariateSpline(wl, np.log(F),\n",
    "                                                     ext=2, k=5)\n",
    "    spectrum_smoothed.set_smoothing_factor(np.inf)\n",
    "    \n",
    "    rescale = (integrate.simps(F, wl)\n",
    "               /integrate.simps(np.exp(spectrum_smoothed(wl)), wl))\n",
    "#     ax.plot(wl*1e7, F, c=cc[8], lw=1, zorder=0)\n",
    "#     ax.plot(wl*1e7, F_tilda[mk], c=cc[7], lw=3, zorder=1)\n",
    "    ax.plot(wl*1e7, np.exp(spectrum_smoothed(wl)), lw=3, c=cc[4], zorder=2)\n",
    "    ax.plot(wl*1e7, np.exp(spectrum_smoothed(wl))*rescale, lw=3, c=cc[2], zorder=2)\n",
    "\n",
    "for edge in tabler.bin_breaks:\n",
    "    ax.axvline(edge*1e7, lw=1, c=cc[0], zorder=0)\n",
    "for edge in tabler.original_bins:\n",
    "    ax.axvline(edge*1e7, lw=1, c=cc[3], zorder=0)\n",
    "ax.set_ylabel(r'$F_{\\lambda}$')\n",
    "ax.set_xlabel(r'$\\lambda$ (nm)')\n",
    "# ax.set_xscale('log')\n",
    "ax.set_yscale('log')"
   ]
  },
  {
   "cell_type": "code",
   "execution_count": null,
   "metadata": {},
   "outputs": [],
   "source": [
    "F_Matilda = copy.deepcopy(F_hat)\n",
    "I_Matilda = copy.deepcopy(I_hat)\n",
    "NOOOOOOOO = copy.deepcopy(F_hat)\n",
    "for ibin in range(tabler.n_bins):\n",
    "    # Masked data\n",
    "    mk = ((tabler.data['wl']>=tabler.bin_breaks[ibin])\n",
    "            &(tabler.data['wl']<=tabler.bin_breaks[ibin+1]))\n",
    "    wl = tabler.data['wl'][mk]\n",
    "    F = tabler.data['F_wl'][mk]\n",
    "    # spectrum\n",
    "    F_smoothed = interpolate.UnivariateSpline(wl, np.log(F_tilda[mk]),\n",
    "                                                     ext=2, k=5)\n",
    "    F_smoothed.set_smoothing_factor(np.inf)\n",
    "    I_smoothed = interpolate.UnivariateSpline(wl, np.log(I_tilda[mk]),\n",
    "                                                     ext=2, k=5)\n",
    "    I_smoothed.set_smoothing_factor(np.inf)\n",
    "    \n",
    "    FUCK = interpolate.UnivariateSpline(wl, F_tilda[mk], ext=2, k=3)\n",
    "    FUCK.set_smoothing_factor(np.inf)\n",
    "    # Rescale\n",
    "    rescale = (integrate.simps(F[mk], wl)\n",
    "               /integrate.simps(np.exp(F_smoothed(wl)), wl))\n",
    "    F_Matilda[mk] = np.exp(F_smoothed(wl))*rescale\n",
    "    I_Matilda[mk] = np.exp(I_smoothed(wl))*rescale\n",
    "    NOOOOOOOO[mk] = FUCK(wl)*rescale\n",
    "# Plot\n",
    "fig, ax = plt.subplots()\n",
    "ax.plot(wavelengths[mask]*1e7, F_wl[mask]/F_tot*1e-7,\n",
    "        c=cc[7], lw=1, zorder=0, label='')\n",
    "ax.plot(wavelengths[mask]*1e7, F_Matilda[mask]/F_tot*1e-7,\n",
    "        c=cc[3], lw=3, zorder=2, label='')\n",
    "ax.plot(wavelengths[mask]*1e7, NOOOOOOOO[mask]/F_tot*1e-7,\n",
    "        c=cc[6], lw=3, zorder=2, label='')\n",
    "\n",
    "for edge in tabler.bin_breaks:\n",
    "    ax.axvline(edge*1e7, lw=1, c=cc[0], zorder=0)\n",
    "for edge in tabler.original_bins:\n",
    "    ax.axvline(edge*1e7, lw=1, c=cc[1], zorder=0)\n",
    "ax.set_ylabel(r'$f_{\\lambda}$ (nm$^{-1}$)')\n",
    "ax.set_xlabel(r'$\\lambda$ (nm)')\n",
    "ax.set_yscale('log')\n",
    "fig.tight_layout()"
   ]
  },
  {
   "cell_type": "markdown",
   "metadata": {},
   "source": [
    "# Should integrate to 1"
   ]
  },
  {
   "cell_type": "code",
   "execution_count": null,
   "metadata": {},
   "outputs": [],
   "source": [
    "integrate.simps(F_Matilda[mask]/F_tot, wavelengths[mask])"
   ]
  },
  {
   "cell_type": "markdown",
   "metadata": {},
   "source": [
    "# Check on degree of polynomial needed"
   ]
  },
  {
   "cell_type": "code",
   "execution_count": null,
   "metadata": {},
   "outputs": [],
   "source": [
    "max_degree = 0\n",
    "for ibin in range(tabler.n_bins):\n",
    "    # Masked data\n",
    "    mk = ((tabler.data['wl']>=tabler.bin_breaks[ibin])\n",
    "            &(tabler.data['wl']<=tabler.bin_breaks[ibin+1]))\n",
    "    wl = tabler.data['wl'][mk]\n",
    "    species = []\n",
    "    for s in tabler.species_list:\n",
    "        sigma = s.atomic_data.cross_section(const.hc/const.eV/wl)\n",
    "        if sigma.any():\n",
    "            if not sigma.all():\n",
    "                print(f'WARNING: {s.atomic_data.name} has zero in array')\n",
    "            species.append(s)\n",
    "    term_A = 0.0\n",
    "    term_B = 0.0\n",
    "    delta_nu = (tabler.bin_breaks[ibin+1]-tabler.bin_breaks[ibin])\n",
    "    nu0 = (tabler.bin_breaks[ibin+1]+tabler.bin_breaks[ibin])/2\n",
    "    E0 = const.hc/nu0/const.eV\n",
    "    for s in species:\n",
    "        sigma = s.atomic_data.cross_section(const.hc/const.eV/wl)\n",
    "        d_sigma = (s.atomic_data\n",
    "                          .cross_section_derivative(E0, wrt='lambda'))\n",
    "        d2_sigma = (s.atomic_data\n",
    "                          .cross_section_second_derivative(E0, wrt='lambda'))\n",
    "        min_sigma = sigma.min()\n",
    "        term_A += delta_nu*d_sigma/min_sigma\n",
    "        term_B += delta_nu**2*d2_sigma/min_sigma/2\n",
    "    term_A *= tabler.tau_cut\n",
    "    term_B *= tabler.tau_cut\n",
    "    max_term = term_A+term_B\n",
    "    i = 1\n",
    "    while True:\n",
    "        if max_term**i <= math.factorial(i):\n",
    "            max_degree = max(max_degree, i)\n",
    "            break\n",
    "        i += 1\n",
    "\n",
    "print(f'Max degree: {max_degree}\\n'\n",
    "      f'Min abscissas: {int((max_degree+1)/2+0.5)}\\n'\n",
    "      f'Number of evalulations: {int((max_degree+1)/2+0.5)*tabler.n_bins}')"
   ]
  },
  {
   "cell_type": "code",
   "execution_count": null,
   "metadata": {},
   "outputs": [],
   "source": []
  },
  {
   "cell_type": "code",
   "execution_count": null,
   "metadata": {},
   "outputs": [],
   "source": [
    "def polyfit_with_fixed_points(n, x, y, xf, yf) :\n",
    "    mat = np.empty((n + 1 + len(xf),) * 2)\n",
    "    vec = np.empty((n + 1 + len(xf),))\n",
    "    x_n = x**np.arange(2 * n + 1)[:, None]\n",
    "    yx_n = np.sum(x_n[:n + 1] * y, axis=1)\n",
    "    x_n = np.sum(x_n, axis=1)\n",
    "    idx = np.arange(n + 1) + np.arange(n + 1)[:, None]\n",
    "    mat[:n + 1, :n + 1] = np.take(x_n, idx)\n",
    "    xf_n = xf**np.arange(n + 1)[:, None]\n",
    "    mat[:n + 1, n + 1:] = xf_n / 2\n",
    "    mat[n + 1:, :n + 1] = xf_n.T\n",
    "    mat[n + 1:, n + 1:] = 0\n",
    "    vec[:n + 1] = yx_n\n",
    "    vec[n + 1:] = yf\n",
    "    params = np.linalg.solve(mat, vec)\n",
    "    return params[:n + 1]\n",
    "\n",
    "fig, ax = plt.subplots()\n",
    "n, d, f = 50, 5, 2\n",
    "for ibin in range(tabler.n_bins):\n",
    "    # Masked data\n",
    "    mk = ((tabler.data['wl']>=tabler.bin_breaks[ibin])\n",
    "            &(tabler.data['wl']<=tabler.bin_breaks[ibin+1]))\n",
    "    wl = tabler.data['wl'][mk]\n",
    "    F = tabler.data['F_wl'][mk]\n",
    "    log_F = np.log(F)\n",
    "    params = polyfit_with_fixed_points(5, wl.values ,\n",
    "                                       log_F.values,\n",
    "                                       [wl.iloc[0], wl.iloc[-1]],\n",
    "                                       [log_F.iloc[0], log_F.iloc[-1]])\n",
    "    poly = np.polynomial.Polynomial(params)\n",
    "    rescale = integrate.simps(F, wl)/integrate.simps(np.exp(poly(wl)), wl)\n",
    "    ax.plot(wl*1e7, np.exp(poly(wl)), c=cc[3], lw=2, zorder=1, label='')\n",
    "    ax.plot(wl*1e7, np.exp(poly(wl))*rescale, c=cc[9], lw=2, zorder=1, label='')\n",
    "    ax.plot(wl*1e7, F, c=cc[7], lw=1, zorder=0, label='')\n",
    "    \n",
    "ax.set_yscale('log')\n",
    "ax.set_xlim([10,90])\n",
    "# x = np.random.rand(n)\n",
    "# xf = np.random.rand(f)\n",
    "# poly = np.polynomial.Polynomial(np.random.rand(d + 1))\n",
    "# y = poly(x) + np.random.rand(n) - 0.5\n",
    "# yf = np.random.uniform(np.min(y), np.max(y), size=(f,))\n",
    "# params = polyfit_with_fixed_points(d, x , y, xf, yf)\n",
    "# poly = np.polynomial.Polynomial(params)\n",
    "# xx = np.linspace(0, 1, 1000)\n",
    "# plt.plot(x, y, 'bo')\n",
    "# plt.plot(xf, yf, 'ro')\n",
    "# plt.plot(xx, poly(xx), '-')\n",
    "# plt.show()\n"
   ]
  },
  {
   "cell_type": "code",
   "execution_count": null,
   "metadata": {},
   "outputs": [],
   "source": []
  },
  {
   "cell_type": "code",
   "execution_count": null,
   "metadata": {},
   "outputs": [],
   "source": []
  },
  {
   "cell_type": "code",
   "execution_count": null,
   "metadata": {},
   "outputs": [],
   "source": []
  },
  {
   "cell_type": "code",
   "execution_count": null,
   "metadata": {},
   "outputs": [],
   "source": [
    "fig, ax = plt.subplots()\n",
    "\n",
    "wl = np.linspace(10, 20)*1e-7\n",
    "\n",
    "s = tabler.species_list[0].atomic_data\n",
    "sig = s.cross_section(const.hc/const.eV/wl)\n",
    "d_sig = s.cross_section_derivative(const.hc/const.eV/wl, wrt='lambda')\n",
    "d2_sig = s.cross_section_second_derivative(const.hc/const.eV/wl, wrt='lambda')\n",
    "\n",
    "ax.plot(wl*1e7, sig/abs(sig[-1]), '.', label='sig')\n",
    "ax.plot(wl*1e7, d_sig/abs(d_sig[-1]), '.', label='d')\n",
    "ax.plot(wl*1e7, d2_sig/abs(d2_sig[-1]), '.', label='d2')\n",
    "\n",
    "ax.legend()\n",
    "ax.set_yscale('log')\n",
    "fig.tight_layout()"
   ]
  },
  {
   "cell_type": "code",
   "execution_count": null,
   "metadata": {},
   "outputs": [],
   "source": []
  },
  {
   "cell_type": "code",
   "execution_count": null,
   "metadata": {},
   "outputs": [],
   "source": []
  },
  {
   "cell_type": "code",
   "execution_count": null,
   "metadata": {},
   "outputs": [],
   "source": []
  },
  {
   "cell_type": "code",
   "execution_count": null,
   "metadata": {},
   "outputs": [],
   "source": []
  },
  {
   "cell_type": "code",
   "execution_count": null,
   "metadata": {},
   "outputs": [],
   "source": []
  },
  {
   "cell_type": "code",
   "execution_count": null,
   "metadata": {},
   "outputs": [],
   "source": []
  },
  {
   "cell_type": "code",
   "execution_count": null,
   "metadata": {},
   "outputs": [],
   "source": []
  }
 ],
 "metadata": {
  "kernelspec": {
   "display_name": "Python 3",
   "language": "python",
   "name": "python3"
  },
  "language_info": {
   "codemirror_mode": {
    "name": "ipython",
    "version": 3
   },
   "file_extension": ".py",
   "mimetype": "text/x-python",
   "name": "python",
   "nbconvert_exporter": "python",
   "pygments_lexer": "ipython3",
   "version": "3.7.7"
  }
 },
 "nbformat": 4,
 "nbformat_minor": 4
}
